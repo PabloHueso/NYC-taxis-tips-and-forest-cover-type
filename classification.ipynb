{
 "cells": [
  {
   "cell_type": "code",
   "execution_count": 1,
   "metadata": {},
   "outputs": [],
   "source": [
    "import pandas as pd\n",
    "import seaborn as sns\n",
    "import matplotlib.pyplot as plt\n",
    "import matplotlib.pyplot as plt\n",
    "import numpy as np"
   ]
  },
  {
   "cell_type": "code",
   "execution_count": 91,
   "metadata": {},
   "outputs": [],
   "source": [
    "test = pd.read_csv('datasets/test_forest.csv')\n",
    "train = pd.read_csv('datasets/train_forest.csv')\n",
    "train.drop('Unnamed: 0', axis=1, inplace=True)"
   ]
  },
  {
   "cell_type": "code",
   "execution_count": 3,
   "metadata": {},
   "outputs": [],
   "source": [
    "#On garde en copie les datasets originelles en memoire au cas ou on a besoin plus tard\n",
    "train_original = train.copy()\n",
    "test_original = test.copy()"
   ]
  },
  {
   "cell_type": "markdown",
   "metadata": {},
   "source": [
    "## Exploration des données \n",
    "Dans cette partie nous regarderons nos données, matrice de correlation, distributions des classes et études des variables de sol "
   ]
  },
  {
   "cell_type": "code",
   "execution_count": 7,
   "metadata": {},
   "outputs": [
    {
     "data": {
      "text/html": [
       "<div>\n",
       "<style scoped>\n",
       "    .dataframe tbody tr th:only-of-type {\n",
       "        vertical-align: middle;\n",
       "    }\n",
       "\n",
       "    .dataframe tbody tr th {\n",
       "        vertical-align: top;\n",
       "    }\n",
       "\n",
       "    .dataframe thead th {\n",
       "        text-align: right;\n",
       "    }\n",
       "</style>\n",
       "<table border=\"1\" class=\"dataframe\">\n",
       "  <thead>\n",
       "    <tr style=\"text-align: right;\">\n",
       "      <th></th>\n",
       "      <th>Elevation</th>\n",
       "      <th>Aspect</th>\n",
       "      <th>Slope</th>\n",
       "      <th>Horizontal_Distance_To_Hydrology</th>\n",
       "      <th>Vertical_Distance_To_Hydrology</th>\n",
       "      <th>Horizontal_Distance_To_Roadways</th>\n",
       "      <th>Hillshade_9am</th>\n",
       "      <th>Hillshade_Noon</th>\n",
       "      <th>Hillshade_3pm</th>\n",
       "      <th>Horizontal_Distance_To_Fire_Points</th>\n",
       "      <th>...</th>\n",
       "      <th>Soil_Type32</th>\n",
       "      <th>Soil_Type33</th>\n",
       "      <th>Soil_Type34</th>\n",
       "      <th>Soil_Type35</th>\n",
       "      <th>Soil_Type36</th>\n",
       "      <th>Soil_Type37</th>\n",
       "      <th>Soil_Type38</th>\n",
       "      <th>Soil_Type39</th>\n",
       "      <th>Soil_Type40</th>\n",
       "      <th>Cover_Type</th>\n",
       "    </tr>\n",
       "  </thead>\n",
       "  <tbody>\n",
       "    <tr>\n",
       "      <th>0</th>\n",
       "      <td>2909</td>\n",
       "      <td>28</td>\n",
       "      <td>18</td>\n",
       "      <td>182</td>\n",
       "      <td>58</td>\n",
       "      <td>1350</td>\n",
       "      <td>210</td>\n",
       "      <td>197</td>\n",
       "      <td>117</td>\n",
       "      <td>2160</td>\n",
       "      <td>...</td>\n",
       "      <td>0</td>\n",
       "      <td>0</td>\n",
       "      <td>0</td>\n",
       "      <td>0</td>\n",
       "      <td>0</td>\n",
       "      <td>0</td>\n",
       "      <td>0</td>\n",
       "      <td>0</td>\n",
       "      <td>0</td>\n",
       "      <td>2</td>\n",
       "    </tr>\n",
       "    <tr>\n",
       "      <th>1</th>\n",
       "      <td>2757</td>\n",
       "      <td>334</td>\n",
       "      <td>30</td>\n",
       "      <td>212</td>\n",
       "      <td>83</td>\n",
       "      <td>1384</td>\n",
       "      <td>137</td>\n",
       "      <td>184</td>\n",
       "      <td>177</td>\n",
       "      <td>1570</td>\n",
       "      <td>...</td>\n",
       "      <td>0</td>\n",
       "      <td>0</td>\n",
       "      <td>0</td>\n",
       "      <td>0</td>\n",
       "      <td>0</td>\n",
       "      <td>0</td>\n",
       "      <td>0</td>\n",
       "      <td>0</td>\n",
       "      <td>0</td>\n",
       "      <td>2</td>\n",
       "    </tr>\n",
       "    <tr>\n",
       "      <th>2</th>\n",
       "      <td>3283</td>\n",
       "      <td>248</td>\n",
       "      <td>4</td>\n",
       "      <td>150</td>\n",
       "      <td>15</td>\n",
       "      <td>5601</td>\n",
       "      <td>211</td>\n",
       "      <td>243</td>\n",
       "      <td>170</td>\n",
       "      <td>892</td>\n",
       "      <td>...</td>\n",
       "      <td>0</td>\n",
       "      <td>0</td>\n",
       "      <td>0</td>\n",
       "      <td>0</td>\n",
       "      <td>0</td>\n",
       "      <td>0</td>\n",
       "      <td>1</td>\n",
       "      <td>0</td>\n",
       "      <td>0</td>\n",
       "      <td>1</td>\n",
       "    </tr>\n",
       "    <tr>\n",
       "      <th>3</th>\n",
       "      <td>3019</td>\n",
       "      <td>330</td>\n",
       "      <td>14</td>\n",
       "      <td>541</td>\n",
       "      <td>-101</td>\n",
       "      <td>1811</td>\n",
       "      <td>186</td>\n",
       "      <td>222</td>\n",
       "      <td>175</td>\n",
       "      <td>2154</td>\n",
       "      <td>...</td>\n",
       "      <td>0</td>\n",
       "      <td>0</td>\n",
       "      <td>0</td>\n",
       "      <td>0</td>\n",
       "      <td>0</td>\n",
       "      <td>0</td>\n",
       "      <td>0</td>\n",
       "      <td>0</td>\n",
       "      <td>0</td>\n",
       "      <td>2</td>\n",
       "    </tr>\n",
       "    <tr>\n",
       "      <th>4</th>\n",
       "      <td>3039</td>\n",
       "      <td>340</td>\n",
       "      <td>20</td>\n",
       "      <td>474</td>\n",
       "      <td>74</td>\n",
       "      <td>3407</td>\n",
       "      <td>175</td>\n",
       "      <td>207</td>\n",
       "      <td>169</td>\n",
       "      <td>1879</td>\n",
       "      <td>...</td>\n",
       "      <td>0</td>\n",
       "      <td>0</td>\n",
       "      <td>0</td>\n",
       "      <td>0</td>\n",
       "      <td>0</td>\n",
       "      <td>0</td>\n",
       "      <td>0</td>\n",
       "      <td>1</td>\n",
       "      <td>0</td>\n",
       "      <td>1</td>\n",
       "    </tr>\n",
       "  </tbody>\n",
       "</table>\n",
       "<p>5 rows × 55 columns</p>\n",
       "</div>"
      ],
      "text/plain": [
       "   Elevation  Aspect  Slope  Horizontal_Distance_To_Hydrology  \\\n",
       "0       2909      28     18                               182   \n",
       "1       2757     334     30                               212   \n",
       "2       3283     248      4                               150   \n",
       "3       3019     330     14                               541   \n",
       "4       3039     340     20                               474   \n",
       "\n",
       "   Vertical_Distance_To_Hydrology  Horizontal_Distance_To_Roadways  \\\n",
       "0                              58                             1350   \n",
       "1                              83                             1384   \n",
       "2                              15                             5601   \n",
       "3                            -101                             1811   \n",
       "4                              74                             3407   \n",
       "\n",
       "   Hillshade_9am  Hillshade_Noon  Hillshade_3pm  \\\n",
       "0            210             197            117   \n",
       "1            137             184            177   \n",
       "2            211             243            170   \n",
       "3            186             222            175   \n",
       "4            175             207            169   \n",
       "\n",
       "   Horizontal_Distance_To_Fire_Points  ...  Soil_Type32  Soil_Type33  \\\n",
       "0                                2160  ...            0            0   \n",
       "1                                1570  ...            0            0   \n",
       "2                                 892  ...            0            0   \n",
       "3                                2154  ...            0            0   \n",
       "4                                1879  ...            0            0   \n",
       "\n",
       "   Soil_Type34  Soil_Type35  Soil_Type36  Soil_Type37  Soil_Type38  \\\n",
       "0            0            0            0            0            0   \n",
       "1            0            0            0            0            0   \n",
       "2            0            0            0            0            1   \n",
       "3            0            0            0            0            0   \n",
       "4            0            0            0            0            0   \n",
       "\n",
       "   Soil_Type39  Soil_Type40  Cover_Type  \n",
       "0            0            0           2  \n",
       "1            0            0           2  \n",
       "2            0            0           1  \n",
       "3            0            0           2  \n",
       "4            1            0           1  \n",
       "\n",
       "[5 rows x 55 columns]"
      ]
     },
     "execution_count": 7,
     "metadata": {},
     "output_type": "execute_result"
    }
   ],
   "source": [
    "train.head()"
   ]
  },
  {
   "cell_type": "markdown",
   "metadata": {},
   "source": [
    "On peut commencer a remarquer que nous disposons de beaucoup de variables binaires pour les types de sol que nous pourrons chercher a reduire"
   ]
  },
  {
   "cell_type": "code",
   "execution_count": 5,
   "metadata": {},
   "outputs": [
    {
     "data": {
      "image/png": "[encoded data removed]",
      "text/plain": [
       "<Figure size 640x480 with 2 Axes>"
      ]
     },
     "metadata": {},
     "output_type": "display_data"
    }
   ],
   "source": [
    "\n",
    "df = train.copy()\n",
    "# Calcul de la matrice de corrélation\n",
    "corr_matrix = df.corr()\n",
    "\n",
    "# Création d'un masque pour les faibles corrélations (par exemple, valeurs proches de zéro)\n",
    "mask = np.abs(corr_matrix) < 0.1  # Ajuste le seuil selon le niveau de corrélation \"faible\" que tu souhaites\n",
    "\n",
    "# Choix de la palette de couleurs\n",
    "palette = 'PRGn'\n",
    "\n",
    "fig, ax = plt.subplots(1, 1)\n",
    "sns.heatmap(corr_matrix, mask=mask, annot=False, vmin=-1, vmax=1, cmap=palette, ax=ax, \n",
    "            cbar_kws={\"shrink\": .8}, linewidths=.5, linecolor=\"white\")\n",
    "\n",
    "# Ajustement des lignes pour les variables explicatives\n",
    "nvarexp = df.shape[1] - 1\n",
    "ax.plot([0, nvarexp], [nvarexp, nvarexp], linestyle='--', color='dimgray')\n",
    "ax.plot([nvarexp, nvarexp], [0, nvarexp], linestyle='--', color='dimgray')\n",
    "\n",
    "plt.show()\n"
   ]
  },
  {
   "cell_type": "markdown",
   "metadata": {},
   "source": [
    "Les variables ne semblent pas au premier abord specialement correle entre elle, on commence donc notre étude sans en enlever. On peut également remarquer que pour la pluspart \n",
    "la variable objectif n'est pas correlé aux autres. Cela ne veut pas dire qu'il n'y a pas de lien mais qu'elles ne sont pas relié de maniere lineaire, cela nous indique que des \n",
    "modeles utilisant des arbres de decisions seraient plus aptes a capter ce genre de relations que des modeles lineaires comme la regression logisitque. "
   ]
  },
  {
   "cell_type": "code",
   "execution_count": 6,
   "metadata": {},
   "outputs": [
    {
     "name": "stderr",
     "output_type": "stream",
     "text": [
      "/tmp/ipykernel_21648/2449047786.py:6: FutureWarning: \n",
      "\n",
      "Passing `palette` without assigning `hue` is deprecated and will be removed in v0.14.0. Assign the `x` variable to `hue` and set `legend=False` for the same effect.\n",
      "\n",
      "  sns.barplot(x=count_data.index, y=count_data.values, palette=\"viridis\")\n"
     ]
    },
    {
     "data": {
      "image/png": "[encoded data removed]",
      "text/plain": [
       "<Figure size 800x600 with 1 Axes>"
      ]
     },
     "metadata": {},
     "output_type": "display_data"
    }
   ],
   "source": [
    "\n",
    "# Compter les occurrences de chaque catégorie\n",
    "count_data = df['Cover_Type'].value_counts()\n",
    "\n",
    "# Tracer un graphique à barres\n",
    "plt.figure(figsize=(8, 6))\n",
    "sns.barplot(x=count_data.index, y=count_data.values, palette=\"viridis\")\n",
    "plt.xlabel(\"Classes de couverture forestière (Cover_Type)\")\n",
    "plt.ylabel(\"Nombre d'occurrences\")\n",
    "plt.title(\"Distribution des classes de couverture forestière\")\n",
    "plt.show()\n"
   ]
  },
  {
   "cell_type": "markdown",
   "metadata": {},
   "source": [
    "Certaines classes sont sous representé par rapport aux autres, classe 4,5,6 et 7,3 par rapport a 1 et 2 on pourra penser a faire de l'over fitting ou de l'underfitting"
   ]
  },
  {
   "cell_type": "code",
   "execution_count": 8,
   "metadata": {},
   "outputs": [
    {
     "data": {
      "image/png": "[encoded data removed]",
      "text/plain": [
       "<Figure size 1200x600 with 1 Axes>"
      ]
     },
     "metadata": {},
     "output_type": "display_data"
    }
   ],
   "source": [
    "soil_columns = [col for col in df.columns if 'Soil_Type' in col]\n",
    "\n",
    "# Calculer le nombre d'individus pour chaque type de sol\n",
    "soil_counts = df[soil_columns].sum()\n",
    "\n",
    "# Créer un histogramme\n",
    "plt.figure(figsize=(12, 6))\n",
    "soil_counts.plot(kind='bar', color='skyblue')\n",
    "plt.title(\"Nombre d'individus pour chaque type de sol\")\n",
    "plt.xlabel(\"Type de sol\")\n",
    "plt.ylabel(\"Nombre d'individus\")\n",
    "plt.xticks(rotation=45)\n",
    "plt.show()"
   ]
  },
  {
   "cell_type": "markdown",
   "metadata": {},
   "source": [
    "On peut voir que certaines variable soil type on très peu d'individu, ce qui peut poser probleme si il y a une faible diversité de cover type parmis ceux la. "
   ]
  },
  {
   "cell_type": "code",
   "execution_count": 57,
   "metadata": {},
   "outputs": [
    {
     "data": {
      "image/png": "[encoded data removed]",
      "text/plain": [
       "<Figure size 1500x800 with 1 Axes>"
      ]
     },
     "metadata": {},
     "output_type": "display_data"
    }
   ],
   "source": [
    "df_melted = df.melt(id_vars='Cover_Type', value_vars=[col for col in df.columns if 'Soil_Type' in col],\n",
    "                    var_name='Soil_Type', value_name='Presence')\n",
    "\n",
    "# Garder uniquement les lignes où Soil_Type est présent (valeur = 1)\n",
    "df_melted = df_melted[df_melted['Presence'] == 1]\n",
    "\n",
    "# Visualisation\n",
    "plt.figure(figsize=(15, 8))\n",
    "sns.countplot(data=df_melted, x='Soil_Type', hue='Cover_Type')\n",
    "plt.title(\"Répartition des Cover Types en fonction des Soil Types présents\")\n",
    "plt.xlabel(\"Soil Type\")\n",
    "plt.ylabel(\"Nombre d'individus\")\n",
    "plt.xticks(rotation=90)\n",
    "plt.legend(title=\"Cover Type\")\n",
    "plt.show()\n"
   ]
  },
  {
   "cell_type": "markdown",
   "metadata": {},
   "source": [
    "Certaines variable de soil on très peu de diversité, on observe également des pics d'individu pour certains type de sol de meme cover type. On pourrait potentiellement penser a \n",
    "supprimer les variables avec peu d'individu"
   ]
  },
  {
   "cell_type": "markdown",
   "metadata": {},
   "source": [
    "## Modification des données \n",
    "Dans cette partie nous proposerons plusieurs modifications sur le dataframe initiale, rajout de variable, enlever certaines variables, overfitting et underfitting. "
   ]
  },
  {
   "cell_type": "code",
   "execution_count": 39,
   "metadata": {},
   "outputs": [],
   "source": [
    "df_change = df.copy()\n",
    "# On rajoute le cos et sin pour les variables qui s'expriment en degré, on rajoute elevation relative car c'est une va qui peut prendre de grande valeurs,\n",
    "#Nous avons également tester le fait de mettre au carré certaines va de distances pour augmenter leur importance et au contraire de passer au log. \n",
    "\n",
    "df_change['Elevation_Relative'] = df_change['Elevation'] - df_change['Elevation'].mean()\n",
    "df_change['Elevation_Standardized'] = (df_change['Elevation'] - df_change['Elevation'].mean()) / df_change['Elevation'].std()\n",
    "\n",
    "df_change['Aspect_sin'] = np.sin(np.radians(df_change['Aspect']))\n",
    "df_change['Aspect_cos'] = np.cos(np.radians(df_change['Aspect']))\n",
    "\n",
    "df_change['Slope_sin'] = np.sin(np.radians(df_change['Slope']))\n",
    "df_change['Slope_cos'] = np.cos(np.radians(df_change['Slope']))\n",
    "\n",
    "df_change['Horizontal_Distance_To_Roadways_2'] = df_change['Horizontal_Distance_To_Roadways']**2\n",
    "df_change['Horizontal_Distance_To_Fire_Points_2'] = df_change['Horizontal_Distance_To_Fire_Points']**2\n",
    "df_change['Horizontal_Distance_To_Hydrology_2'] = df_change['Horizontal_Distance_To_Hydrology']**2\n",
    "df_change['Vertical_Distance_To_Hydrology_2'] = df_change['Vertical_Distance_To_Hydrology']**2\n",
    "\n",
    "\n"
   ]
  },
  {
   "cell_type": "code",
   "execution_count": 55,
   "metadata": {},
   "outputs": [],
   "source": [
    "#tentative de regrouper les types de sol \n",
    " #Fonction pour regrouper les types de sol en groupes\n",
    "def regroup_soil_types(row):\n",
    "    soil_groups = {\n",
    "        'Affleurement_rocheux': 0,\n",
    "        'Famille_Leighcan': 0,\n",
    "        'Pierreux_Caillouteux': 0,\n",
    "        'Complexes_Cry': 0,\n",
    "        'Sols_hydriques_humides': 0,\n",
    "        'Autres': 0\n",
    "    }\n",
    "\n",
    "    # Définir les règles pour chaque groupe\n",
    "    if row['Soil_Type1'] == 1 or row['Soil_Type3'] == 1 or row['Soil_Type4'] == 1 or row['Soil_Type5'] == 1 or row['Soil_Type6'] == 1 or row['Soil_Type10'] == 1 or row['Soil_Type11'] == 1 or row['Soil_Type13'] == 1 or row['Soil_Type27'] == 1 or row['Soil_Type28'] == 1 or row['Soil_Type32'] == 1 or row['Soil_Type33'] == 1 or row['Soil_Type37'] == 1:\n",
    "        soil_groups['Affleurement_rocheux'] = 1\n",
    "\n",
    "    if row['Soil_Type22'] == 1 or row['Soil_Type23'] == 1 or row['Soil_Type24'] == 1 or row['Soil_Type25'] == 1 or row['Soil_Type27'] == 1 or row['Soil_Type29'] == 1 or row['Soil_Type31'] == 1 or row['Soil_Type33'] == 1:\n",
    "        soil_groups['Famille_Leighcan'] = 1\n",
    "\n",
    "    if row['Soil_Type9'] == 1 or row['Soil_Type22'] == 1 or row['Soil_Type23'] == 1 or row['Soil_Type24'] == 1 or row['Soil_Type25'] == 1 or row['Soil_Type27'] == 1 or row['Soil_Type28'] == 1 or row['Soil_Type29'] == 1 or row['Soil_Type30'] == 1 or row['Soil_Type31'] == 1 or row['Soil_Type32'] == 1 or row['Soil_Type36'] == 1 or row['Soil_Type37'] == 1 or row['Soil_Type38'] == 1 or row['Soil_Type39'] == 1:\n",
    "        soil_groups['Pierreux_Caillouteux'] = 1\n",
    "\n",
    "    if row['Soil_Type16'] == 1 or row['Soil_Type19'] == 1 or row['Soil_Type20'] == 1 or row['Soil_Type34'] == 1 or row['Soil_Type35'] == 1 or row['Soil_Type37'] == 1 or row['Soil_Type39'] == 1:\n",
    "        soil_groups['Complexes_Cry'] = 1\n",
    "\n",
    "    if row['Soil_Type6'] == 1 or row['Soil_Type14'] == 1 or row['Soil_Type19'] == 1 or row['Soil_Type20'] == 1 or row['Soil_Type21'] == 1:\n",
    "        soil_groups['Sols_hydriques_humides'] = 1\n",
    "\n",
    "    # Sinon, mettre 'Autres'\n",
    "    soil_groups['Autres'] = 1 if not any(soil_groups.values()) else 0\n",
    "\n",
    "    return pd.Series(soil_groups)\n",
    "\n",
    "# Appliquer la fonction à chaque ligne du dataframe pour créer les nouvelles colonnes\n",
    "df_new = df_change.copy()\n",
    "df_new_ = df_new.apply(regroup_soil_types, axis=1)\n",
    "\n",
    "# Ajouter ces nouvelles colonnes au dataframe original\n",
    "df_change_2 = pd.concat([df_new, df_new_], axis=1)\n"
   ]
  },
  {
   "cell_type": "code",
   "execution_count": 58,
   "metadata": {},
   "outputs": [],
   "source": [
    "#on retire les types de soil avec peu d'individu\n",
    "# Compter les occurrences de chaque Soil_Type\n",
    "soil_counts = df_melted['Soil_Type'].value_counts()\n",
    "\n",
    "# Filtrer les Soil_Type avec moins de 100 occurrences\n",
    "rare_soil_types = soil_counts[soil_counts < 200].index.tolist()\n",
    "df_change_2 = df_change_2.drop(columns=rare_soil_types)"
   ]
  },
  {
   "cell_type": "code",
   "execution_count": 59,
   "metadata": {},
   "outputs": [],
   "source": [
    "#on retire les variables peu representative pour xgboost \n",
    "# Liste des variables à supprimer\n",
    "df_change_xg = df_change_2.copy()\n",
    "variables_a_retirer = [\n",
    "    'Soil_Type15', 'Elevation_Relative', 'Elevation_Standardized', \n",
    "    'Slope_sin', 'Slope_cos', 'Horizontal_Distance_To_Roadways_2', \n",
    "    'Horizontal_Distance_To_Fire_Points_2', 'Horizontal_Distance_To_Hydrology_2', \n",
    "    'Soil_Type8', 'Soil_Type7', 'Aspect_sin', 'Slope', 'Hillshade_3pm'\n",
    "]\n",
    "\n",
    "# Vérifier et retirer les colonnes si elles sont présentes dans le dataframe\n",
    "df_change_xg = df_change_xg.drop(columns=[col for col in variables_a_retirer if col in df_change_xg.columns])"
   ]
  },
  {
   "cell_type": "code",
   "execution_count": 77,
   "metadata": {},
   "outputs": [],
   "source": [
    "variables_a_retirer = [\n",
    "    'Soil_Type15', 'Elevation_Relative', 'Elevation_Standardized', \n",
    "    'Slope_sin', 'Slope_cos', 'Horizontal_Distance_To_Roadways_2', \n",
    "    'Horizontal_Distance_To_Fire_Points_2', 'Horizontal_Distance_To_Hydrology_2', \n",
    "    'Soil_Type8', 'Soil_Type7', 'Aspect_sin', 'Slope', 'Hillshade_3pm'\n",
    "]"
   ]
  },
  {
   "cell_type": "markdown",
   "metadata": {},
   "source": [
    "### on met les memes changement dans le dataframe de test"
   ]
  },
  {
   "cell_type": "code",
   "execution_count": 93,
   "metadata": {},
   "outputs": [],
   "source": [
    "df_new_ = test.apply(regroup_soil_types, axis=1)\n",
    "\n",
    "# Ajouter ces nouvelles colonnes au dataframe original\n",
    "test = pd.concat([test, df_new_], axis=1)"
   ]
  },
  {
   "cell_type": "code",
   "execution_count": 92,
   "metadata": {},
   "outputs": [],
   "source": [
    "# Calculs sur la variable 'Elevation'\n",
    "test['Elevation_Relative'] = test['Elevation'] - test['Elevation'].mean()\n",
    "test['Elevation_Standardized'] = (test['Elevation'] - test['Elevation'].mean()) / test['Elevation'].std()\n",
    "\n",
    "# Calculs sur la variable 'Aspect' avec sin et cos\n",
    "test['Aspect_sin'] = np.sin(np.radians(test['Aspect']))\n",
    "test['Aspect_cos'] = np.cos(np.radians(test['Aspect']))\n",
    "\n",
    "# Calculs sur la variable 'Slope' avec sin et cos\n",
    "test['Slope_sin'] = np.sin(np.radians(test['Slope']))\n",
    "test['Slope_cos'] = np.cos(np.radians(test['Slope']))\n",
    "\n",
    "# Calculs de distances élevées au carré\n",
    "test['Horizontal_Distance_To_Roadways_2'] = test['Horizontal_Distance_To_Roadways']**2\n",
    "test['Horizontal_Distance_To_Fire_Points_2'] = test['Horizontal_Distance_To_Fire_Points']**2\n",
    "test['Horizontal_Distance_To_Hydrology_2'] = test['Horizontal_Distance_To_Hydrology']**2\n",
    "test['Vertical_Distance_To_Hydrology_2'] = test['Vertical_Distance_To_Hydrology']**2\n"
   ]
  },
  {
   "cell_type": "code",
   "execution_count": 95,
   "metadata": {},
   "outputs": [],
   "source": [
    "test = test.drop(columns=[col for col in variables_a_retirer if col in test.columns])\n"
   ]
  },
  {
   "cell_type": "code",
   "execution_count": 94,
   "metadata": {},
   "outputs": [],
   "source": [
    "test = test.drop(columns=rare_soil_types)"
   ]
  },
  {
   "cell_type": "markdown",
   "metadata": {},
   "source": [
    "# Model fitting"
   ]
  },
  {
   "cell_type": "markdown",
   "metadata": {},
   "source": [
    "## Model fitting premiere etude (sans changement data train)"
   ]
  },
  {
   "cell_type": "code",
   "execution_count": 22,
   "metadata": {},
   "outputs": [],
   "source": [
    "from sklearn.linear_model import LogisticRegression\n",
    "from sklearn.metrics import classification_report\n",
    "from sklearn.model_selection import train_test_split\n",
    "from sklearn.tree import DecisionTreeClassifier\n",
    "from sklearn.ensemble import BaggingClassifier\n",
    "from sklearn.ensemble import AdaBoostClassifier\n",
    "from sklearn.ensemble import GradientBoostingClassifier\n",
    "import xgboost as xgb\n",
    "from sklearn.ensemble import RandomForestClassifier\n",
    "from sklearn.svm import SVC\n",
    "from sklearn.model_selection import cross_val_score"
   ]
  },
  {
   "cell_type": "code",
   "execution_count": 8,
   "metadata": {},
   "outputs": [],
   "source": [
    "\n",
    "X = df.drop('Cover_Type', axis=1)  # Variables explicatives\n",
    "y = df['Cover_Type']  # Variable cible (Cover_Type avec 7 classes)\n",
    "\n",
    "# Division avec stratification pour préserver les proportions des 7 classes dans train et test\n",
    "X_train, X_test, y_train, y_test = train_test_split(X, y, test_size=0.2, stratify=y, random_state=42)"
   ]
  },
  {
   "cell_type": "markdown",
   "metadata": {},
   "source": [
    "### Regression logistique\n"
   ]
  },
  {
   "cell_type": "code",
   "execution_count": 9,
   "metadata": {},
   "outputs": [
    {
     "name": "stdout",
     "output_type": "stream",
     "text": [
      "Régression Logistique - Classification Report (Test):\n",
      "              precision    recall  f1-score   support\n",
      "\n",
      "           1       0.67      0.69      0.68      7282\n",
      "           2       0.70      0.81      0.75      9735\n",
      "           3       0.62      0.62      0.62      1255\n",
      "           4       0.64      0.19      0.30        94\n",
      "           5       0.00      0.00      0.00       327\n",
      "           6       0.14      0.02      0.03       593\n",
      "           7       0.32      0.02      0.03       714\n",
      "\n",
      "    accuracy                           0.68     20000\n",
      "   macro avg       0.44      0.33      0.34     20000\n",
      "weighted avg       0.65      0.68      0.66     20000\n",
      "\n",
      "Régression Logistique - Classification Report (Train):\n",
      "              precision    recall  f1-score   support\n",
      "\n",
      "           1       0.67      0.70      0.69     29128\n",
      "           2       0.71      0.80      0.75     38941\n",
      "           3       0.62      0.64      0.63      5018\n",
      "           4       0.48      0.16      0.24       377\n",
      "           5       0.00      0.00      0.00      1308\n",
      "           6       0.23      0.03      0.05      2374\n",
      "           7       0.47      0.03      0.05      2854\n",
      "\n",
      "    accuracy                           0.69     80000\n",
      "   macro avg       0.45      0.34      0.34     80000\n",
      "weighted avg       0.65      0.69      0.66     80000\n",
      "\n"
     ]
    },
    {
     "name": "stderr",
     "output_type": "stream",
     "text": [
      "/home/sam/.local/lib/python3.10/site-packages/sklearn/linear_model/_logistic.py:469: ConvergenceWarning: lbfgs failed to converge (status=1):\n",
      "STOP: TOTAL NO. of ITERATIONS REACHED LIMIT.\n",
      "\n",
      "Increase the number of iterations (max_iter) or scale the data as shown in:\n",
      "    https://scikit-learn.org/stable/modules/preprocessing.html\n",
      "Please also refer to the documentation for alternative solver options:\n",
      "    https://scikit-learn.org/stable/modules/linear_model.html#logistic-regression\n",
      "  n_iter_i = _check_optimize_result(\n",
      "/home/sam/.local/lib/python3.10/site-packages/sklearn/metrics/_classification.py:1531: UndefinedMetricWarning: Precision is ill-defined and being set to 0.0 in labels with no predicted samples. Use `zero_division` parameter to control this behavior.\n",
      "  _warn_prf(average, modifier, f\"{metric.capitalize()} is\", len(result))\n",
      "/home/sam/.local/lib/python3.10/site-packages/sklearn/metrics/_classification.py:1531: UndefinedMetricWarning: Precision is ill-defined and being set to 0.0 in labels with no predicted samples. Use `zero_division` parameter to control this behavior.\n",
      "  _warn_prf(average, modifier, f\"{metric.capitalize()} is\", len(result))\n",
      "/home/sam/.local/lib/python3.10/site-packages/sklearn/metrics/_classification.py:1531: UndefinedMetricWarning: Precision is ill-defined and being set to 0.0 in labels with no predicted samples. Use `zero_division` parameter to control this behavior.\n",
      "  _warn_prf(average, modifier, f\"{metric.capitalize()} is\", len(result))\n",
      "/home/sam/.local/lib/python3.10/site-packages/sklearn/metrics/_classification.py:1531: UndefinedMetricWarning: Precision is ill-defined and being set to 0.0 in labels with no predicted samples. Use `zero_division` parameter to control this behavior.\n",
      "  _warn_prf(average, modifier, f\"{metric.capitalize()} is\", len(result))\n",
      "/home/sam/.local/lib/python3.10/site-packages/sklearn/metrics/_classification.py:1531: UndefinedMetricWarning: Precision is ill-defined and being set to 0.0 in labels with no predicted samples. Use `zero_division` parameter to control this behavior.\n",
      "  _warn_prf(average, modifier, f\"{metric.capitalize()} is\", len(result))\n",
      "/home/sam/.local/lib/python3.10/site-packages/sklearn/metrics/_classification.py:1531: UndefinedMetricWarning: Precision is ill-defined and being set to 0.0 in labels with no predicted samples. Use `zero_division` parameter to control this behavior.\n",
      "  _warn_prf(average, modifier, f\"{metric.capitalize()} is\", len(result))\n"
     ]
    }
   ],
   "source": [
    "# Initialisation du modèle\n",
    "logreg = LogisticRegression(max_iter=1000, random_state=42)\n",
    "\n",
    "# Entraînement du modèle\n",
    "logreg.fit(X_train, y_train)\n",
    "\n",
    "# Prédiction sur l'échantillon de test\n",
    "y_pred_test = logreg.predict(X_test)\n",
    "\n",
    "# Prédiction sur l'échantillon d'entraînement\n",
    "y_pred_train = logreg.predict(X_train)\n",
    "\n",
    "# Évaluation pour les données de test\n",
    "print(\"Régression Logistique - Classification Report (Test):\")\n",
    "print(classification_report(y_test, y_pred_test))\n",
    "\n",
    "# Évaluation pour les données d'entraînement\n",
    "print(\"Régression Logistique - Classification Report (Train):\")\n",
    "print(classification_report(y_train, y_pred_train))\n",
    "\n"
   ]
  },
  {
   "cell_type": "markdown",
   "metadata": {},
   "source": [
    "### Arbre de decision"
   ]
  },
  {
   "cell_type": "code",
   "execution_count": 11,
   "metadata": {},
   "outputs": [
    {
     "name": "stdout",
     "output_type": "stream",
     "text": [
      "Arbre de Décision - Classification Report (Test):\n",
      "              precision    recall  f1-score   support\n",
      "\n",
      "           1       0.86      0.86      0.86      7282\n",
      "           2       0.88      0.89      0.88      9735\n",
      "           3       0.86      0.84      0.85      1255\n",
      "           4       0.72      0.74      0.73        94\n",
      "           5       0.64      0.65      0.64       327\n",
      "           6       0.72      0.72      0.72       593\n",
      "           7       0.86      0.86      0.86       714\n",
      "\n",
      "    accuracy                           0.86     20000\n",
      "   macro avg       0.79      0.79      0.79     20000\n",
      "weighted avg       0.86      0.86      0.86     20000\n",
      "\n",
      "Arbre de Décision - Classification Report (Train):\n",
      "              precision    recall  f1-score   support\n",
      "\n",
      "           1       1.00      1.00      1.00     29128\n",
      "           2       1.00      1.00      1.00     38941\n",
      "           3       1.00      1.00      1.00      5018\n",
      "           4       1.00      1.00      1.00       377\n",
      "           5       1.00      1.00      1.00      1308\n",
      "           6       1.00      1.00      1.00      2374\n",
      "           7       1.00      1.00      1.00      2854\n",
      "\n",
      "    accuracy                           1.00     80000\n",
      "   macro avg       1.00      1.00      1.00     80000\n",
      "weighted avg       1.00      1.00      1.00     80000\n",
      "\n"
     ]
    }
   ],
   "source": [
    "\n",
    "# Initialisation du modèle\n",
    "dtree = DecisionTreeClassifier(random_state=42)\n",
    "\n",
    "# Entraînement du modèle\n",
    "dtree.fit(X_train, y_train)\n",
    "\n",
    "# Prédiction\n",
    "y_pred_dtree_test = dtree.predict(X_test)\n",
    "\n",
    "y_pred_dtree_train = dtree.predict(X_train)\n",
    "\n",
    "\n",
    "# Évaluation\n",
    "print(\"Arbre de Décision - Classification Report (Test):\")\n",
    "print(classification_report(y_test, y_pred_dtree_test))\n",
    "\n",
    "print(\"Arbre de Décision - Classification Report (Train):\")\n",
    "print(classification_report(y_train, y_pred_dtree_train))\n"
   ]
  },
  {
   "cell_type": "code",
   "execution_count": 27,
   "metadata": {},
   "outputs": [
    {
     "name": "stdout",
     "output_type": "stream",
     "text": [
      "\n",
      "Validation croisée avec les paramètres par défaut:\n",
      "Scores: [0.8456875 0.8473125 0.8481875 0.848375  0.845375 ]\n",
      "Score moyen: 0.8469875\n"
     ]
    }
   ],
   "source": [
    "#cross validation \n",
    "model = DecisionTreeClassifier(random_state=42)\n",
    "\n",
    "\n",
    "# Validation croisée avec les paramètres par défaut\n",
    "scores_default = cross_val_score(model, X_train, y_train, cv=5, scoring='accuracy')\n",
    "print(\"\\nValidation croisée avec les paramètres par défaut:\")\n",
    "print(f\"Scores: {scores_default}\")\n",
    "print(f\"Score moyen: {scores_default.mean()}\")"
   ]
  },
  {
   "cell_type": "markdown",
   "metadata": {},
   "source": [
    "### Bagging "
   ]
  },
  {
   "cell_type": "code",
   "execution_count": 13,
   "metadata": {},
   "outputs": [
    {
     "name": "stdout",
     "output_type": "stream",
     "text": [
      "Bagging - Classification Report (test):\n",
      "              precision    recall  f1-score   support\n",
      "\n",
      "           1       0.93      0.91      0.92      7282\n",
      "           2       0.92      0.95      0.93      9735\n",
      "           3       0.91      0.92      0.91      1255\n",
      "           4       0.88      0.82      0.85        94\n",
      "           5       0.86      0.66      0.75       327\n",
      "           6       0.88      0.82      0.85       593\n",
      "           7       0.94      0.89      0.91       714\n",
      "\n",
      "    accuracy                           0.92     20000\n",
      "   macro avg       0.90      0.85      0.88     20000\n",
      "weighted avg       0.92      0.92      0.92     20000\n",
      "\n",
      "Bagging - Classification Report (train):\n",
      "              precision    recall  f1-score   support\n",
      "\n",
      "           1       1.00      1.00      1.00     29128\n",
      "           2       1.00      1.00      1.00     38941\n",
      "           3       1.00      1.00      1.00      5018\n",
      "           4       1.00      1.00      1.00       377\n",
      "           5       1.00      1.00      1.00      1308\n",
      "           6       1.00      1.00      1.00      2374\n",
      "           7       1.00      1.00      1.00      2854\n",
      "\n",
      "    accuracy                           1.00     80000\n",
      "   macro avg       1.00      1.00      1.00     80000\n",
      "weighted avg       1.00      1.00      1.00     80000\n",
      "\n"
     ]
    }
   ],
   "source": [
    "\n",
    "\n",
    "# Initialisation du modèle de bagging avec un arbre de décision comme classificateur de base\n",
    "bagging = BaggingClassifier(estimator=DecisionTreeClassifier(), n_estimators=100, random_state=42)\n",
    "\n",
    "# Entraînement du modèle\n",
    "bagging.fit(X_train, y_train)\n",
    "\n",
    "# Prédiction\n",
    "y_pred_bagging_test = bagging.predict(X_test)\n",
    "y_pred_bagging_train = bagging.predict(X_train)\n",
    "\n",
    "# Évaluation\n",
    "print(\"Bagging - Classification Report (test):\")\n",
    "print(classification_report(y_test, y_pred_bagging_test))\n",
    "\n",
    "print(\"Bagging - Classification Report (train):\")\n",
    "print(classification_report(y_train, y_pred_bagging_train))\n"
   ]
  },
  {
   "cell_type": "code",
   "execution_count": 28,
   "metadata": {},
   "outputs": [
    {
     "name": "stdout",
     "output_type": "stream",
     "text": [
      "\n",
      "Validation croisée avec les paramètres par défaut:\n",
      "Scores: [0.9083125 0.902625  0.9085    0.908625  0.9091875]\n",
      "Score moyen: 0.9074500000000001\n"
     ]
    }
   ],
   "source": [
    "#cross validation \n",
    "model = BaggingClassifier(estimator=DecisionTreeClassifier(), n_estimators=100, random_state=42)\n",
    "\n",
    "\n",
    "# Validation croisée avec les paramètres par défaut\n",
    "scores_default = cross_val_score(model, X_train, y_train, cv=5, scoring='accuracy')\n",
    "print(\"\\nValidation croisée avec les paramètres par défaut:\")\n",
    "print(f\"Scores: {scores_default}\")\n",
    "print(f\"Score moyen: {scores_default.mean()}\")"
   ]
  },
  {
   "cell_type": "markdown",
   "metadata": {},
   "source": [
    "### Boosting"
   ]
  },
  {
   "cell_type": "code",
   "execution_count": 15,
   "metadata": {},
   "outputs": [
    {
     "name": "stderr",
     "output_type": "stream",
     "text": [
      "/home/sam/.local/lib/python3.10/site-packages/sklearn/ensemble/_weight_boosting.py:527: FutureWarning: The SAMME.R algorithm (the default) is deprecated and will be removed in 1.6. Use the SAMME algorithm to circumvent this warning.\n",
      "  warnings.warn(\n"
     ]
    },
    {
     "name": "stdout",
     "output_type": "stream",
     "text": [
      "Boosting (AdaBoost) - Classification Report(test):\n",
      "              precision    recall  f1-score   support\n",
      "\n",
      "           1       0.65      0.59      0.62      7282\n",
      "           2       0.72      0.76      0.74      9735\n",
      "           3       0.86      0.16      0.28      1255\n",
      "           4       0.04      0.02      0.03        94\n",
      "           5       0.00      0.00      0.00       327\n",
      "           6       0.27      0.60      0.37       593\n",
      "           7       0.13      0.26      0.17       714\n",
      "\n",
      "    accuracy                           0.62     20000\n",
      "   macro avg       0.38      0.34      0.32     20000\n",
      "weighted avg       0.65      0.62      0.62     20000\n",
      "\n",
      "Boosting (AdaBoost) - Classification Report(train):\n",
      "              precision    recall  f1-score   support\n",
      "\n",
      "           1       0.65      0.60      0.62     29128\n",
      "           2       0.72      0.76      0.74     38941\n",
      "           3       0.87      0.16      0.27      5018\n",
      "           4       0.03      0.02      0.02       377\n",
      "           5       0.00      0.00      0.00      1308\n",
      "           6       0.28      0.64      0.39      2374\n",
      "           7       0.13      0.26      0.17      2854\n",
      "\n",
      "    accuracy                           0.63     80000\n",
      "   macro avg       0.38      0.35      0.32     80000\n",
      "weighted avg       0.66      0.63      0.62     80000\n",
      "\n"
     ]
    },
    {
     "name": "stderr",
     "output_type": "stream",
     "text": [
      "/home/sam/.local/lib/python3.10/site-packages/sklearn/metrics/_classification.py:1531: UndefinedMetricWarning: Precision is ill-defined and being set to 0.0 in labels with no predicted samples. Use `zero_division` parameter to control this behavior.\n",
      "  _warn_prf(average, modifier, f\"{metric.capitalize()} is\", len(result))\n",
      "/home/sam/.local/lib/python3.10/site-packages/sklearn/metrics/_classification.py:1531: UndefinedMetricWarning: Precision is ill-defined and being set to 0.0 in labels with no predicted samples. Use `zero_division` parameter to control this behavior.\n",
      "  _warn_prf(average, modifier, f\"{metric.capitalize()} is\", len(result))\n",
      "/home/sam/.local/lib/python3.10/site-packages/sklearn/metrics/_classification.py:1531: UndefinedMetricWarning: Precision is ill-defined and being set to 0.0 in labels with no predicted samples. Use `zero_division` parameter to control this behavior.\n",
      "  _warn_prf(average, modifier, f\"{metric.capitalize()} is\", len(result))\n",
      "/home/sam/.local/lib/python3.10/site-packages/sklearn/metrics/_classification.py:1531: UndefinedMetricWarning: Precision is ill-defined and being set to 0.0 in labels with no predicted samples. Use `zero_division` parameter to control this behavior.\n",
      "  _warn_prf(average, modifier, f\"{metric.capitalize()} is\", len(result))\n",
      "/home/sam/.local/lib/python3.10/site-packages/sklearn/metrics/_classification.py:1531: UndefinedMetricWarning: Precision is ill-defined and being set to 0.0 in labels with no predicted samples. Use `zero_division` parameter to control this behavior.\n",
      "  _warn_prf(average, modifier, f\"{metric.capitalize()} is\", len(result))\n",
      "/home/sam/.local/lib/python3.10/site-packages/sklearn/metrics/_classification.py:1531: UndefinedMetricWarning: Precision is ill-defined and being set to 0.0 in labels with no predicted samples. Use `zero_division` parameter to control this behavior.\n",
      "  _warn_prf(average, modifier, f\"{metric.capitalize()} is\", len(result))\n"
     ]
    }
   ],
   "source": [
    "\n",
    "# Initialisation du modèle AdaBoost avec un arbre de décision comme classificateur de base\n",
    "adaboost = AdaBoostClassifier(estimator=DecisionTreeClassifier(max_depth=1), n_estimators=100, random_state=42)\n",
    "\n",
    "# Entraînement du modèle\n",
    "adaboost.fit(X_train, y_train)\n",
    "\n",
    "# Prédiction\n",
    "y_pred_adaboost_test = adaboost.predict(X_test)\n",
    "y_pred_adaboost_train = adaboost.predict(X_train)\n",
    "\n",
    "# Évaluation\n",
    "print(\"Boosting (AdaBoost) - Classification Report(test):\")\n",
    "print(classification_report(y_test, y_pred_adaboost_test))\n",
    "print(\"Boosting (AdaBoost) - Classification Report(train):\")\n",
    "print(classification_report(y_train, y_pred_adaboost_train))\n"
   ]
  },
  {
   "cell_type": "code",
   "execution_count": 29,
   "metadata": {},
   "outputs": [
    {
     "name": "stderr",
     "output_type": "stream",
     "text": [
      "/home/sam/.local/lib/python3.10/site-packages/sklearn/ensemble/_weight_boosting.py:527: FutureWarning: The SAMME.R algorithm (the default) is deprecated and will be removed in 1.6. Use the SAMME algorithm to circumvent this warning.\n",
      "  warnings.warn(\n",
      "/home/sam/.local/lib/python3.10/site-packages/sklearn/ensemble/_weight_boosting.py:527: FutureWarning: The SAMME.R algorithm (the default) is deprecated and will be removed in 1.6. Use the SAMME algorithm to circumvent this warning.\n",
      "  warnings.warn(\n",
      "/home/sam/.local/lib/python3.10/site-packages/sklearn/ensemble/_weight_boosting.py:527: FutureWarning: The SAMME.R algorithm (the default) is deprecated and will be removed in 1.6. Use the SAMME algorithm to circumvent this warning.\n",
      "  warnings.warn(\n",
      "/home/sam/.local/lib/python3.10/site-packages/sklearn/ensemble/_weight_boosting.py:527: FutureWarning: The SAMME.R algorithm (the default) is deprecated and will be removed in 1.6. Use the SAMME algorithm to circumvent this warning.\n",
      "  warnings.warn(\n",
      "/home/sam/.local/lib/python3.10/site-packages/sklearn/ensemble/_weight_boosting.py:527: FutureWarning: The SAMME.R algorithm (the default) is deprecated and will be removed in 1.6. Use the SAMME algorithm to circumvent this warning.\n",
      "  warnings.warn(\n"
     ]
    },
    {
     "name": "stdout",
     "output_type": "stream",
     "text": [
      "\n",
      "Validation croisée avec les paramètres par défaut:\n",
      "Scores: [0.630625  0.419     0.5986875 0.6283125 0.63075  ]\n",
      "Score moyen: 0.581475\n"
     ]
    }
   ],
   "source": [
    "#cross validation \n",
    "model = AdaBoostClassifier(estimator=DecisionTreeClassifier(max_depth=1), n_estimators=100, random_state=42)\n",
    "\n",
    "\n",
    "# Validation croisée avec les paramètres par défaut\n",
    "scores_default = cross_val_score(model, X_train, y_train, cv=5, scoring='accuracy')\n",
    "print(\"\\nValidation croisée avec les paramètres par défaut:\")\n",
    "print(f\"Scores: {scores_default}\")\n",
    "print(f\"Score moyen: {scores_default.mean()}\")"
   ]
  },
  {
   "cell_type": "code",
   "execution_count": 17,
   "metadata": {},
   "outputs": [
    {
     "name": "stdout",
     "output_type": "stream",
     "text": [
      "Boosting (Gradient Boosting) - Classification Report(test):\n",
      "              precision    recall  f1-score   support\n",
      "\n",
      "           1       0.76      0.74      0.75      7282\n",
      "           2       0.78      0.83      0.81      9735\n",
      "           3       0.78      0.83      0.80      1255\n",
      "           4       0.81      0.76      0.78        94\n",
      "           5       0.78      0.27      0.40       327\n",
      "           6       0.63      0.46      0.53       593\n",
      "           7       0.87      0.68      0.76       714\n",
      "\n",
      "    accuracy                           0.77     20000\n",
      "   macro avg       0.77      0.65      0.69     20000\n",
      "weighted avg       0.77      0.77      0.77     20000\n",
      "\n",
      "Boosting (Gradient Boosting) - Classification Report(train):\n",
      "              precision    recall  f1-score   support\n",
      "\n",
      "           1       0.77      0.76      0.76     29128\n",
      "           2       0.79      0.83      0.81     38941\n",
      "           3       0.80      0.85      0.82      5018\n",
      "           4       0.92      0.80      0.86       377\n",
      "           5       0.82      0.27      0.41      1308\n",
      "           6       0.70      0.50      0.58      2374\n",
      "           7       0.88      0.71      0.79      2854\n",
      "\n",
      "    accuracy                           0.78     80000\n",
      "   macro avg       0.81      0.68      0.72     80000\n",
      "weighted avg       0.78      0.78      0.78     80000\n",
      "\n"
     ]
    }
   ],
   "source": [
    "\n",
    "# Initialisation du modèle Gradient Boosting\n",
    "gradient_boosting = GradientBoostingClassifier(n_estimators=100, random_state=42)\n",
    "\n",
    "# Entraînement du modèle\n",
    "gradient_boosting.fit(X_train, y_train)\n",
    "\n",
    "# Prédiction\n",
    "y_pred_gradient_boosting_test = gradient_boosting.predict(X_test)\n",
    "y_pred_gradient_boosting_train = gradient_boosting.predict(X_train)\n",
    "# Évaluation\n",
    "print(\"Boosting (Gradient Boosting) - Classification Report(test):\")\n",
    "print(classification_report(y_test, y_pred_gradient_boosting_test))\n",
    "print(\"Boosting (Gradient Boosting) - Classification Report(train):\")\n",
    "print(classification_report(y_train, y_pred_gradient_boosting_train))\n"
   ]
  },
  {
   "cell_type": "code",
   "execution_count": 30,
   "metadata": {},
   "outputs": [
    {
     "name": "stdout",
     "output_type": "stream",
     "text": [
      "\n",
      "Validation croisée avec les paramètres par défaut:\n",
      "Scores: [0.774375  0.7721875 0.7715    0.774375  0.7738125]\n",
      "Score moyen: 0.77325\n"
     ]
    }
   ],
   "source": [
    "#cross validation \n",
    "model = GradientBoostingClassifier(n_estimators=100, random_state=42)\n",
    "\n",
    "\n",
    "# Validation croisée avec les paramètres par défaut\n",
    "scores_default = cross_val_score(model, X_train, y_train, cv=5, scoring='accuracy')\n",
    "print(\"\\nValidation croisée avec les paramètres par défaut:\")\n",
    "print(f\"Scores: {scores_default}\")\n",
    "print(f\"Score moyen: {scores_default.mean()}\")"
   ]
  },
  {
   "cell_type": "code",
   "execution_count": 19,
   "metadata": {},
   "outputs": [
    {
     "name": "stdout",
     "output_type": "stream",
     "text": [
      "XGBoost - Classification Report(test):\n",
      "              precision    recall  f1-score   support\n",
      "\n",
      "           0       0.93      0.91      0.92      7282\n",
      "           1       0.92      0.94      0.93      9735\n",
      "           2       0.91      0.92      0.92      1255\n",
      "           3       0.86      0.85      0.86        94\n",
      "           4       0.85      0.69      0.76       327\n",
      "           5       0.87      0.82      0.85       593\n",
      "           6       0.95      0.90      0.93       714\n",
      "\n",
      "    accuracy                           0.92     20000\n",
      "   macro avg       0.90      0.86      0.88     20000\n",
      "weighted avg       0.92      0.92      0.92     20000\n",
      "\n",
      "XGBoost - Classification Report(train):\n",
      "              precision    recall  f1-score   support\n",
      "\n",
      "           0       1.00      1.00      1.00     29128\n",
      "           1       1.00      1.00      1.00     38941\n",
      "           2       1.00      1.00      1.00      5018\n",
      "           3       1.00      1.00      1.00       377\n",
      "           4       1.00      1.00      1.00      1308\n",
      "           5       1.00      1.00      1.00      2374\n",
      "           6       1.00      1.00      1.00      2854\n",
      "\n",
      "    accuracy                           1.00     80000\n",
      "   macro avg       1.00      1.00      1.00     80000\n",
      "weighted avg       1.00      1.00      1.00     80000\n",
      "\n"
     ]
    }
   ],
   "source": [
    "\n",
    "# Décaler les labels pour qu'ils commencent à 0\n",
    "y_train_adjusted = y_train - 1\n",
    "y_test_adjusted = y_test - 1\n",
    "\n",
    "# Initialisation du modèle XGBoost\n",
    "xgboost = xgb.XGBClassifier(n_estimators=1000, random_state=42)\n",
    "\n",
    "# Entraînement du modèle\n",
    "xgboost.fit(X_train, y_train_adjusted)\n",
    "\n",
    "# Prédiction\n",
    "y_pred_xgboost_test = xgboost.predict(X_test)\n",
    "y_pred_xgboost_train = xgboost.predict(X_train)\n",
    "# Ajuster les prédictions en fonction des labels originaux\n",
    "\n",
    "# Évaluation\n",
    "print(\"XGBoost - Classification Report(test):\")\n",
    "print(classification_report(y_test_adjusted, y_pred_xgboost_test))\n",
    "\n",
    "print(\"XGBoost - Classification Report(train):\")\n",
    "print(classification_report(y_train_adjusted, y_pred_xgboost_train))\n"
   ]
  },
  {
   "cell_type": "code",
   "execution_count": 32,
   "metadata": {},
   "outputs": [
    {
     "name": "stdout",
     "output_type": "stream",
     "text": [
      "\n",
      "Validation croisée avec les paramètres par défaut:\n",
      "Scores: [0.914     0.909375  0.9095625 0.912125  0.913125 ]\n",
      "Score moyen: 0.9116375000000001\n"
     ]
    }
   ],
   "source": [
    "#cross validation \n",
    "model = xgb.XGBClassifier(n_estimators=1000, random_state=42)\n",
    "\n",
    "\n",
    "# Validation croisée avec les paramètres par défaut\n",
    "scores_default = cross_val_score(model, X_train, y_train_adjusted, cv=5, scoring='accuracy')\n",
    "print(\"\\nValidation croisée avec les paramètres par défaut:\")\n",
    "print(f\"Scores: {scores_default}\")\n",
    "print(f\"Score moyen: {scores_default.mean()}\")"
   ]
  },
  {
   "cell_type": "markdown",
   "metadata": {},
   "source": [
    "### Random Forest "
   ]
  },
  {
   "cell_type": "code",
   "execution_count": 21,
   "metadata": {},
   "outputs": [
    {
     "name": "stdout",
     "output_type": "stream",
     "text": [
      "Random Forest - Classification Report(test):\n",
      "              precision    recall  f1-score   support\n",
      "\n",
      "           1       0.92      0.88      0.90      7282\n",
      "           2       0.89      0.94      0.92      9735\n",
      "           3       0.88      0.92      0.90      1255\n",
      "           4       0.94      0.77      0.84        94\n",
      "           5       0.89      0.55      0.68       327\n",
      "           6       0.85      0.75      0.80       593\n",
      "           7       0.95      0.86      0.90       714\n",
      "\n",
      "    accuracy                           0.90     20000\n",
      "   macro avg       0.90      0.81      0.85     20000\n",
      "weighted avg       0.90      0.90      0.90     20000\n",
      "\n",
      "Random Forest - Classification Report(train):\n",
      "              precision    recall  f1-score   support\n",
      "\n",
      "           1       1.00      1.00      1.00     29128\n",
      "           2       1.00      1.00      1.00     38941\n",
      "           3       1.00      1.00      1.00      5018\n",
      "           4       1.00      1.00      1.00       377\n",
      "           5       1.00      1.00      1.00      1308\n",
      "           6       1.00      1.00      1.00      2374\n",
      "           7       1.00      1.00      1.00      2854\n",
      "\n",
      "    accuracy                           1.00     80000\n",
      "   macro avg       1.00      1.00      1.00     80000\n",
      "weighted avg       1.00      1.00      1.00     80000\n",
      "\n"
     ]
    }
   ],
   "source": [
    "\n",
    "\n",
    "# Initialisation du modèle Random Forest\n",
    "rf = RandomForestClassifier(n_estimators=100, random_state=42)\n",
    "\n",
    "# Entraînement du modèle\n",
    "rf.fit(X_train, y_train)\n",
    "\n",
    "# Prédiction\n",
    "y_pred_rf_test = rf.predict(X_test)\n",
    "y_pred_rf_train = rf.predict(X_train)\n",
    "# Évaluation\n",
    "print(\"Random Forest - Classification Report(test):\")\n",
    "print(classification_report(y_test, y_pred_rf_test))\n",
    "print(\"Random Forest - Classification Report(train):\")\n",
    "print(classification_report(y_train, y_pred_rf_train))\n"
   ]
  },
  {
   "cell_type": "code",
   "execution_count": 33,
   "metadata": {},
   "outputs": [
    {
     "name": "stdout",
     "output_type": "stream",
     "text": [
      "\n",
      "Validation croisée avec les paramètres par défaut:\n",
      "Scores: [0.8911875 0.8886875 0.8905625 0.89525   0.8936875]\n",
      "Score moyen: 0.891875\n"
     ]
    }
   ],
   "source": [
    "#cross validation \n",
    "model = RandomForestClassifier(n_estimators=100, random_state=42)\n",
    "\n",
    "\n",
    "# Validation croisée avec les paramètres par défaut\n",
    "scores_default = cross_val_score(model, X_train, y_train, cv=5, scoring='accuracy')\n",
    "print(\"\\nValidation croisée avec les paramètres par défaut:\")\n",
    "print(f\"Scores: {scores_default}\")\n",
    "print(f\"Score moyen: {scores_default.mean()}\")"
   ]
  },
  {
   "cell_type": "markdown",
   "metadata": {},
   "source": [
    "### SVM"
   ]
  },
  {
   "cell_type": "code",
   "execution_count": 23,
   "metadata": {},
   "outputs": [
    {
     "name": "stdout",
     "output_type": "stream",
     "text": [
      "Classification Report (test):\n",
      "              precision    recall  f1-score   support\n",
      "\n",
      "           1       0.68      0.71      0.70      7282\n",
      "           2       0.73      0.81      0.77      9735\n",
      "           3       0.62      0.74      0.68      1255\n",
      "           4       0.00      0.00      0.00        94\n",
      "           5       0.00      0.00      0.00       327\n",
      "           6       0.00      0.00      0.00       593\n",
      "           7       0.97      0.11      0.19       714\n",
      "\n",
      "    accuracy                           0.70     20000\n",
      "   macro avg       0.43      0.34      0.33     20000\n",
      "weighted avg       0.68      0.70      0.68     20000\n",
      "\n",
      "Classification Report (train):\n",
      "              precision    recall  f1-score   support\n",
      "\n",
      "           1       0.69      0.72      0.70     29128\n",
      "           2       0.73      0.81      0.77     38941\n",
      "           3       0.60      0.72      0.66      5018\n",
      "           4       0.00      0.00      0.00       377\n",
      "           5       0.00      0.00      0.00      1308\n",
      "           6       0.00      0.00      0.00      2374\n",
      "           7       0.98      0.11      0.20      2854\n",
      "\n",
      "    accuracy                           0.70     80000\n",
      "   macro avg       0.43      0.34      0.33     80000\n",
      "weighted avg       0.68      0.70      0.68     80000\n",
      "\n"
     ]
    },
    {
     "name": "stderr",
     "output_type": "stream",
     "text": [
      "/home/sam/.local/lib/python3.10/site-packages/sklearn/metrics/_classification.py:1531: UndefinedMetricWarning: Precision is ill-defined and being set to 0.0 in labels with no predicted samples. Use `zero_division` parameter to control this behavior.\n",
      "  _warn_prf(average, modifier, f\"{metric.capitalize()} is\", len(result))\n",
      "/home/sam/.local/lib/python3.10/site-packages/sklearn/metrics/_classification.py:1531: UndefinedMetricWarning: Precision is ill-defined and being set to 0.0 in labels with no predicted samples. Use `zero_division` parameter to control this behavior.\n",
      "  _warn_prf(average, modifier, f\"{metric.capitalize()} is\", len(result))\n",
      "/home/sam/.local/lib/python3.10/site-packages/sklearn/metrics/_classification.py:1531: UndefinedMetricWarning: Precision is ill-defined and being set to 0.0 in labels with no predicted samples. Use `zero_division` parameter to control this behavior.\n",
      "  _warn_prf(average, modifier, f\"{metric.capitalize()} is\", len(result))\n",
      "/home/sam/.local/lib/python3.10/site-packages/sklearn/metrics/_classification.py:1531: UndefinedMetricWarning: Precision is ill-defined and being set to 0.0 in labels with no predicted samples. Use `zero_division` parameter to control this behavior.\n",
      "  _warn_prf(average, modifier, f\"{metric.capitalize()} is\", len(result))\n",
      "/home/sam/.local/lib/python3.10/site-packages/sklearn/metrics/_classification.py:1531: UndefinedMetricWarning: Precision is ill-defined and being set to 0.0 in labels with no predicted samples. Use `zero_division` parameter to control this behavior.\n",
      "  _warn_prf(average, modifier, f\"{metric.capitalize()} is\", len(result))\n",
      "/home/sam/.local/lib/python3.10/site-packages/sklearn/metrics/_classification.py:1531: UndefinedMetricWarning: Precision is ill-defined and being set to 0.0 in labels with no predicted samples. Use `zero_division` parameter to control this behavior.\n",
      "  _warn_prf(average, modifier, f\"{metric.capitalize()} is\", len(result))\n"
     ]
    }
   ],
   "source": [
    "svm_model_gaussien = SVC(kernel='rbf', C=1, random_state=42)\n",
    "\n",
    "# Entraînement du modèle\n",
    "svm_model_gaussien.fit(X_train, y_train)\n",
    "\n",
    "# Prédiction sur les données de test\n",
    "y_pred_test = svm_model_gaussien.predict(X_test)\n",
    "y_pred_train = svm_model_gaussien.predict(X_train)\n",
    "\n",
    "\n",
    "# Évaluation du modèle\n",
    "print(\"Classification Report (test):\")\n",
    "print(classification_report(y_test, y_pred_test))\n",
    "print(\"Classification Report (train):\")\n",
    "print(classification_report(y_train, y_pred_train))"
   ]
  },
  {
   "cell_type": "code",
   "execution_count": 24,
   "metadata": {},
   "outputs": [
    {
     "name": "stdout",
     "output_type": "stream",
     "text": [
      "Classification Report(test):\n",
      "              precision    recall  f1-score   support\n",
      "\n",
      "           1       0.68      0.71      0.69      7282\n",
      "           2       0.72      0.81      0.76      9735\n",
      "           3       0.61      0.71      0.66      1255\n",
      "           4       0.00      0.00      0.00        94\n",
      "           5       0.00      0.00      0.00       327\n",
      "           6       0.00      0.00      0.00       593\n",
      "           7       1.00      0.08      0.16       714\n",
      "\n",
      "    accuracy                           0.70     20000\n",
      "   macro avg       0.43      0.33      0.32     20000\n",
      "weighted avg       0.67      0.70      0.67     20000\n",
      "\n",
      "Classification Report(train):\n",
      "              precision    recall  f1-score   support\n",
      "\n",
      "           1       0.68      0.71      0.70     29128\n",
      "           2       0.72      0.81      0.76     38941\n",
      "           3       0.59      0.70      0.64      5018\n",
      "           4       0.00      0.00      0.00       377\n",
      "           5       0.00      0.00      0.00      1308\n",
      "           6       0.00      0.00      0.00      2374\n",
      "           7       0.98      0.09      0.17      2854\n",
      "\n",
      "    accuracy                           0.70     80000\n",
      "   macro avg       0.43      0.33      0.32     80000\n",
      "weighted avg       0.67      0.70      0.67     80000\n",
      "\n"
     ]
    },
    {
     "name": "stderr",
     "output_type": "stream",
     "text": [
      "/home/sam/.local/lib/python3.10/site-packages/sklearn/metrics/_classification.py:1531: UndefinedMetricWarning: Precision is ill-defined and being set to 0.0 in labels with no predicted samples. Use `zero_division` parameter to control this behavior.\n",
      "  _warn_prf(average, modifier, f\"{metric.capitalize()} is\", len(result))\n",
      "/home/sam/.local/lib/python3.10/site-packages/sklearn/metrics/_classification.py:1531: UndefinedMetricWarning: Precision is ill-defined and being set to 0.0 in labels with no predicted samples. Use `zero_division` parameter to control this behavior.\n",
      "  _warn_prf(average, modifier, f\"{metric.capitalize()} is\", len(result))\n",
      "/home/sam/.local/lib/python3.10/site-packages/sklearn/metrics/_classification.py:1531: UndefinedMetricWarning: Precision is ill-defined and being set to 0.0 in labels with no predicted samples. Use `zero_division` parameter to control this behavior.\n",
      "  _warn_prf(average, modifier, f\"{metric.capitalize()} is\", len(result))\n",
      "/home/sam/.local/lib/python3.10/site-packages/sklearn/metrics/_classification.py:1531: UndefinedMetricWarning: Precision is ill-defined and being set to 0.0 in labels with no predicted samples. Use `zero_division` parameter to control this behavior.\n",
      "  _warn_prf(average, modifier, f\"{metric.capitalize()} is\", len(result))\n",
      "/home/sam/.local/lib/python3.10/site-packages/sklearn/metrics/_classification.py:1531: UndefinedMetricWarning: Precision is ill-defined and being set to 0.0 in labels with no predicted samples. Use `zero_division` parameter to control this behavior.\n",
      "  _warn_prf(average, modifier, f\"{metric.capitalize()} is\", len(result))\n",
      "/home/sam/.local/lib/python3.10/site-packages/sklearn/metrics/_classification.py:1531: UndefinedMetricWarning: Precision is ill-defined and being set to 0.0 in labels with no predicted samples. Use `zero_division` parameter to control this behavior.\n",
      "  _warn_prf(average, modifier, f\"{metric.capitalize()} is\", len(result))\n"
     ]
    }
   ],
   "source": [
    "svm_model_poly = SVC(kernel='poly', C=1, random_state=42)\n",
    "\n",
    "# Entraînement du modèle\n",
    "svm_model_poly.fit(X_train, y_train)\n",
    "\n",
    "# Prédiction sur les données de test\n",
    "y_pred_test = svm_model_poly.predict(X_test)\n",
    "y_pred_train = svm_model_poly.predict(X_train)\n",
    "# Évaluation du modèle\n",
    "print(\"Classification Report(test):\")\n",
    "print(classification_report(y_test, y_pred_test))\n",
    "print(\"Classification Report(train):\")\n",
    "print(classification_report(y_train, y_pred_train))"
   ]
  },
  {
   "cell_type": "markdown",
   "metadata": {},
   "source": [
    "### Etude des variables "
   ]
  },
  {
   "cell_type": "markdown",
   "metadata": {},
   "source": [
    "On regarde les meilleur variables des modeles qui ont le mieux fonctionner (donc ceux utilisant des arbres) arbre de decision car amene une bonne comprehension, xgboost,bagging et random forest"
   ]
  },
  {
   "cell_type": "code",
   "execution_count": 35,
   "metadata": {},
   "outputs": [
    {
     "name": "stdout",
     "output_type": "stream",
     "text": [
      "Importance des variables pour Decision Tree :\n",
      "                               Feature  Importance\n",
      "0                            Elevation    0.342632\n",
      "9   Horizontal_Distance_To_Fire_Points    0.132421\n",
      "5      Horizontal_Distance_To_Roadways    0.124409\n",
      "3     Horizontal_Distance_To_Hydrology    0.063795\n",
      "4       Vertical_Distance_To_Hydrology    0.048332\n",
      "7                       Hillshade_Noon    0.041198\n",
      "6                        Hillshade_9am    0.032700\n",
      "1                               Aspect    0.032406\n",
      "8                        Hillshade_3pm    0.030567\n",
      "2                                Slope    0.024316\n",
      "45                         Soil_Type32    0.013427\n",
      "17                          Soil_Type4    0.011960\n",
      "12                    Wilderness_Area3    0.010871\n",
      "15                          Soil_Type2    0.010493\n",
      "10                    Wilderness_Area1    0.009141\n",
      "36                         Soil_Type23    0.008545\n",
      "35                         Soil_Type22    0.007183\n",
      "42                         Soil_Type29    0.005803\n",
      "46                         Soil_Type33    0.004937\n",
      "44                         Soil_Type31    0.004570\n",
      "26                         Soil_Type13    0.004209\n",
      "11                    Wilderness_Area2    0.004118\n",
      "37                         Soil_Type24    0.003839\n",
      "52                         Soil_Type39    0.003744\n",
      "23                         Soil_Type10    0.003440\n",
      "43                         Soil_Type30    0.002829\n",
      "16                          Soil_Type3    0.002336\n",
      "13                    Wilderness_Area4    0.002143\n",
      "33                         Soil_Type20    0.001957\n",
      "30                         Soil_Type17    0.001826\n",
      "51                         Soil_Type38    0.001795\n",
      "48                         Soil_Type35    0.001421\n",
      "29                         Soil_Type16    0.001128\n",
      "19                          Soil_Type6    0.000795\n",
      "25                         Soil_Type12    0.000766\n",
      "32                         Soil_Type19    0.000695\n",
      "24                         Soil_Type11    0.000662\n",
      "53                         Soil_Type40    0.000501\n",
      "34                         Soil_Type21    0.000445\n",
      "40                         Soil_Type27    0.000417\n",
      "47                         Soil_Type34    0.000312\n",
      "27                         Soil_Type14    0.000251\n",
      "18                          Soil_Type5    0.000247\n",
      "22                          Soil_Type9    0.000145\n",
      "31                         Soil_Type18    0.000067\n",
      "41                         Soil_Type28    0.000037\n",
      "21                          Soil_Type8    0.000037\n",
      "49                         Soil_Type36    0.000037\n",
      "50                         Soil_Type37    0.000034\n",
      "38                         Soil_Type25    0.000033\n",
      "14                          Soil_Type1    0.000027\n",
      "20                          Soil_Type7    0.000000\n",
      "28                         Soil_Type15    0.000000\n",
      "39                         Soil_Type26    0.000000\n"
     ]
    }
   ],
   "source": [
    "#arbre de decision\n",
    "importances = dtree.feature_importances_\n",
    "feature_names = X_train.columns  # Assurez-vous que X_train est un DataFrame avec des noms de colonnes\n",
    "feature_importance_df = pd.DataFrame({\"Feature\": feature_names, \"Importance\": importances})\n",
    "\n",
    "# Trier et afficher les plus importantes\n",
    "feature_importance_df = feature_importance_df.sort_values(by=\"Importance\", ascending=False)\n",
    "print(\"Importance des variables pour Decision Tree :\")\n",
    "print(feature_importance_df)  \n"
   ]
  },
  {
   "cell_type": "code",
   "execution_count": 37,
   "metadata": {},
   "outputs": [
    {
     "name": "stdout",
     "output_type": "stream",
     "text": [
      "Importance des variables pour random forest :\n",
      "                               Feature  Importance\n",
      "0                            Elevation    0.234357\n",
      "5      Horizontal_Distance_To_Roadways    0.104007\n",
      "9   Horizontal_Distance_To_Fire_Points    0.096182\n",
      "3     Horizontal_Distance_To_Hydrology    0.060542\n",
      "4       Vertical_Distance_To_Hydrology    0.058006\n",
      "1                               Aspect    0.054184\n",
      "7                       Hillshade_Noon    0.050318\n",
      "6                        Hillshade_9am    0.048727\n",
      "8                        Hillshade_3pm    0.048671\n",
      "2                                Slope    0.039628\n",
      "13                    Wilderness_Area4    0.030628\n",
      "35                         Soil_Type22    0.015664\n",
      "17                          Soil_Type4    0.012738\n",
      "23                         Soil_Type10    0.012413\n",
      "12                    Wilderness_Area3    0.011694\n",
      "52                         Soil_Type39    0.010476\n",
      "25                         Soil_Type12    0.010449\n",
      "51                         Soil_Type38    0.010327\n",
      "36                         Soil_Type23    0.010280\n",
      "10                    Wilderness_Area1    0.010094\n",
      "15                          Soil_Type2    0.009981\n",
      "11                    Wilderness_Area2    0.006475\n",
      "42                         Soil_Type29    0.005627\n",
      "45                         Soil_Type32    0.005255\n",
      "53                         Soil_Type40    0.004793\n",
      "26                         Soil_Type13    0.004332\n",
      "46                         Soil_Type33    0.004282\n",
      "37                         Soil_Type24    0.003814\n",
      "44                         Soil_Type31    0.003575\n",
      "43                         Soil_Type30    0.003031\n",
      "24                         Soil_Type11    0.002824\n",
      "19                          Soil_Type6    0.002296\n",
      "16                          Soil_Type3    0.002212\n",
      "33                         Soil_Type20    0.001770\n",
      "30                         Soil_Type17    0.001677\n",
      "48                         Soil_Type35    0.001536\n",
      "14                          Soil_Type1    0.001019\n",
      "32                         Soil_Type19    0.000811\n",
      "29                         Soil_Type16    0.000773\n",
      "34                         Soil_Type21    0.000746\n",
      "50                         Soil_Type37    0.000703\n",
      "27                         Soil_Type14    0.000549\n",
      "40                         Soil_Type27    0.000540\n",
      "47                         Soil_Type34    0.000528\n",
      "18                          Soil_Type5    0.000334\n",
      "39                         Soil_Type26    0.000326\n",
      "31                         Soil_Type18    0.000213\n",
      "38                         Soil_Type25    0.000201\n",
      "22                          Soil_Type9    0.000199\n",
      "41                         Soil_Type28    0.000102\n",
      "49                         Soil_Type36    0.000054\n",
      "21                          Soil_Type8    0.000027\n",
      "20                          Soil_Type7    0.000008\n",
      "28                         Soil_Type15    0.000000\n"
     ]
    }
   ],
   "source": [
    "#random forest\n",
    "importances = rf.feature_importances_\n",
    "feature_names = X_train.columns  # Assurez-vous que X_train est un DataFrame avec des noms de colonnes\n",
    "feature_importance_df = pd.DataFrame({\"Feature\": feature_names, \"Importance\": importances})\n",
    "\n",
    "# Trier et afficher les plus importantes\n",
    "feature_importance_df = feature_importance_df.sort_values(by=\"Importance\", ascending=False)\n",
    "print(\"Importance des variables pour random forest :\")\n",
    "print(feature_importance_df)  # Affiche les 20 premières lignes\n"
   ]
  },
  {
   "cell_type": "code",
   "execution_count": 34,
   "metadata": {},
   "outputs": [
    {
     "name": "stdout",
     "output_type": "stream",
     "text": [
      "Importance des variables pour XGBoost :\n",
      "                               Feature  Importance\n",
      "35                         Soil_Type22    0.074973\n",
      "10                    Wilderness_Area1    0.055995\n",
      "15                          Soil_Type2    0.049735\n",
      "0                            Elevation    0.049298\n",
      "17                          Soil_Type4    0.046581\n",
      "52                         Soil_Type39    0.042558\n",
      "25                         Soil_Type12    0.035165\n",
      "11                    Wilderness_Area2    0.030325\n",
      "50                         Soil_Type37    0.029925\n",
      "13                    Wilderness_Area4    0.028829\n",
      "51                         Soil_Type38    0.028025\n",
      "45                         Soil_Type32    0.027123\n",
      "36                         Soil_Type23    0.025734\n",
      "44                         Soil_Type31    0.024913\n",
      "22                          Soil_Type9    0.024800\n",
      "34                         Soil_Type21    0.024067\n",
      "48                         Soil_Type35    0.023583\n",
      "12                    Wilderness_Area3    0.022596\n",
      "16                          Soil_Type3    0.022063\n",
      "40                         Soil_Type27    0.019654\n",
      "37                         Soil_Type24    0.018313\n",
      "46                         Soil_Type33    0.017088\n",
      "42                         Soil_Type29    0.016748\n",
      "47                         Soil_Type34    0.016734\n",
      "43                         Soil_Type30    0.015258\n",
      "41                         Soil_Type28    0.015115\n",
      "27                         Soil_Type14    0.014046\n",
      "53                         Soil_Type40    0.013755\n",
      "26                         Soil_Type13    0.013087\n",
      "33                         Soil_Type20    0.012617\n",
      "29                         Soil_Type16    0.010360\n",
      "5      Horizontal_Distance_To_Roadways    0.010187\n",
      "23                         Soil_Type10    0.010022\n",
      "24                         Soil_Type11    0.009556\n",
      "30                         Soil_Type17    0.009463\n",
      "9   Horizontal_Distance_To_Fire_Points    0.009380\n",
      "32                         Soil_Type19    0.009360\n",
      "18                          Soil_Type5    0.009067\n",
      "3     Horizontal_Distance_To_Hydrology    0.008849\n",
      "31                         Soil_Type18    0.008351\n",
      "7                       Hillshade_Noon    0.007735\n",
      "14                          Soil_Type1    0.007412\n",
      "19                          Soil_Type6    0.007312\n",
      "39                         Soil_Type26    0.007198\n",
      "6                        Hillshade_9am    0.006239\n",
      "4       Vertical_Distance_To_Hydrology    0.005719\n",
      "1                               Aspect    0.005500\n",
      "8                        Hillshade_3pm    0.004339\n",
      "2                                Slope    0.004186\n",
      "49                         Soil_Type36    0.003272\n",
      "38                         Soil_Type25    0.002974\n",
      "21                          Soil_Type8    0.002502\n",
      "20                          Soil_Type7    0.002315\n",
      "28                         Soil_Type15    0.000000\n"
     ]
    }
   ],
   "source": [
    "#xgboost\n",
    "importances = xgboost.feature_importances_\n",
    "feature_names = X_train.columns  # Assurez-vous que X_train est un DataFrame avec des noms de colonnes\n",
    "feature_importance_df = pd.DataFrame({\"Feature\": feature_names, \"Importance\": importances})\n",
    "\n",
    "# Trier et afficher les plus importantes\n",
    "feature_importance_df = feature_importance_df.sort_values(by=\"Importance\", ascending=False)\n",
    "print(\"Importance des variables pour XGBoost :\")\n",
    "print(feature_importance_df)  # Affiche les 20 premières lignes\n"
   ]
  },
  {
   "cell_type": "markdown",
   "metadata": {},
   "source": [
    "## avec changement dataframe"
   ]
  },
  {
   "cell_type": "markdown",
   "metadata": {},
   "source": [
    "On teste les modeles xgboost,bagging et random forest sur le premier changement "
   ]
  },
  {
   "cell_type": "code",
   "execution_count": 40,
   "metadata": {},
   "outputs": [],
   "source": [
    "X = df_change.drop('Cover_Type', axis=1)  # Variables explicatives\n",
    "y = df_change['Cover_Type']  # Variable cible (Cover_Type avec 7 classes)\n",
    "\n",
    "# Division avec stratification pour préserver les proportions des 7 classes dans train et test\n",
    "X_train, X_test, y_train, y_test = train_test_split(X, y, test_size=0.2, stratify=y, random_state=42)"
   ]
  },
  {
   "cell_type": "code",
   "execution_count": 41,
   "metadata": {},
   "outputs": [
    {
     "name": "stdout",
     "output_type": "stream",
     "text": [
      "Bagging - Classification Report (test):\n",
      "              precision    recall  f1-score   support\n",
      "\n",
      "           1       0.93      0.90      0.91      7282\n",
      "           2       0.91      0.95      0.93      9735\n",
      "           3       0.91      0.93      0.92      1255\n",
      "           4       0.88      0.83      0.85        94\n",
      "           5       0.85      0.64      0.73       327\n",
      "           6       0.88      0.81      0.84       593\n",
      "           7       0.94      0.88      0.91       714\n",
      "\n",
      "    accuracy                           0.92     20000\n",
      "   macro avg       0.90      0.85      0.87     20000\n",
      "weighted avg       0.92      0.92      0.92     20000\n",
      "\n",
      "Bagging - Classification Report (train):\n",
      "              precision    recall  f1-score   support\n",
      "\n",
      "           1       1.00      1.00      1.00     29128\n",
      "           2       1.00      1.00      1.00     38941\n",
      "           3       1.00      1.00      1.00      5018\n",
      "           4       1.00      1.00      1.00       377\n",
      "           5       1.00      1.00      1.00      1308\n",
      "           6       1.00      1.00      1.00      2374\n",
      "           7       1.00      1.00      1.00      2854\n",
      "\n",
      "    accuracy                           1.00     80000\n",
      "   macro avg       1.00      1.00      1.00     80000\n",
      "weighted avg       1.00      1.00      1.00     80000\n",
      "\n"
     ]
    }
   ],
   "source": [
    "# Initialisation du modèle de bagging avec un arbre de décision comme classificateur de base\n",
    "bagging = BaggingClassifier(estimator=DecisionTreeClassifier(), n_estimators=100, random_state=42)\n",
    "\n",
    "# Entraînement du modèle\n",
    "bagging.fit(X_train, y_train)\n",
    "\n",
    "# Prédiction\n",
    "y_pred_bagging_test = bagging.predict(X_test)\n",
    "y_pred_bagging_train = bagging.predict(X_train)\n",
    "\n",
    "# Évaluation\n",
    "print(\"Bagging - Classification Report (test):\")\n",
    "print(classification_report(y_test, y_pred_bagging_test))\n",
    "\n",
    "print(\"Bagging - Classification Report (train):\")\n",
    "print(classification_report(y_train, y_pred_bagging_train))\n"
   ]
  },
  {
   "cell_type": "code",
   "execution_count": 42,
   "metadata": {},
   "outputs": [
    {
     "name": "stdout",
     "output_type": "stream",
     "text": [
      "\n",
      "Validation croisée avec les paramètres par défaut:\n",
      "Scores: [0.90625   0.9015    0.907125  0.907375  0.9081875]\n",
      "Score moyen: 0.9060875000000002\n"
     ]
    }
   ],
   "source": [
    "model = BaggingClassifier(estimator=DecisionTreeClassifier(), n_estimators=100, random_state=42)\n",
    "\n",
    "\n",
    "# Validation croisée avec les paramètres par défaut\n",
    "scores_default = cross_val_score(model, X_train, y_train, cv=5, scoring='accuracy')\n",
    "print(\"\\nValidation croisée avec les paramètres par défaut:\")\n",
    "print(f\"Scores: {scores_default}\")\n",
    "print(f\"Score moyen: {scores_default.mean()}\")"
   ]
  },
  {
   "cell_type": "code",
   "execution_count": 43,
   "metadata": {},
   "outputs": [
    {
     "name": "stdout",
     "output_type": "stream",
     "text": [
      "XGBoost - Classification Report(test):\n",
      "              precision    recall  f1-score   support\n",
      "\n",
      "           0       0.92      0.91      0.92      7282\n",
      "           1       0.92      0.94      0.93      9735\n",
      "           2       0.92      0.92      0.92      1255\n",
      "           3       0.87      0.84      0.85        94\n",
      "           4       0.85      0.68      0.76       327\n",
      "           5       0.87      0.82      0.85       593\n",
      "           6       0.95      0.90      0.93       714\n",
      "\n",
      "    accuracy                           0.92     20000\n",
      "   macro avg       0.90      0.86      0.88     20000\n",
      "weighted avg       0.92      0.92      0.92     20000\n",
      "\n",
      "XGBoost - Classification Report(train):\n",
      "              precision    recall  f1-score   support\n",
      "\n",
      "           0       1.00      1.00      1.00     29128\n",
      "           1       1.00      1.00      1.00     38941\n",
      "           2       1.00      1.00      1.00      5018\n",
      "           3       1.00      1.00      1.00       377\n",
      "           4       1.00      1.00      1.00      1308\n",
      "           5       1.00      1.00      1.00      2374\n",
      "           6       1.00      1.00      1.00      2854\n",
      "\n",
      "    accuracy                           1.00     80000\n",
      "   macro avg       1.00      1.00      1.00     80000\n",
      "weighted avg       1.00      1.00      1.00     80000\n",
      "\n"
     ]
    }
   ],
   "source": [
    "# Décaler les labels pour qu'ils commencent à 0\n",
    "y_train_adjusted = y_train - 1\n",
    "y_test_adjusted = y_test - 1\n",
    "\n",
    "# Initialisation du modèle XGBoost\n",
    "xgboost = xgb.XGBClassifier(n_estimators=1000, random_state=42)\n",
    "\n",
    "# Entraînement du modèle\n",
    "xgboost.fit(X_train, y_train_adjusted)\n",
    "\n",
    "# Prédiction\n",
    "y_pred_xgboost_test = xgboost.predict(X_test)\n",
    "y_pred_xgboost_train = xgboost.predict(X_train)\n",
    "# Ajuster les prédictions en fonction des labels originaux\n",
    "\n",
    "# Évaluation\n",
    "print(\"XGBoost - Classification Report(test):\")\n",
    "print(classification_report(y_test_adjusted, y_pred_xgboost_test))\n",
    "\n",
    "print(\"XGBoost - Classification Report(train):\")\n",
    "print(classification_report(y_train_adjusted, y_pred_xgboost_train))\n"
   ]
  },
  {
   "cell_type": "code",
   "execution_count": 45,
   "metadata": {},
   "outputs": [
    {
     "name": "stdout",
     "output_type": "stream",
     "text": [
      "\n",
      "Validation croisée avec les paramètres par défaut:\n",
      "Scores: [0.9121875 0.9058125 0.9095625 0.91025   0.9104375]\n",
      "Score moyen: 0.9096500000000001\n"
     ]
    }
   ],
   "source": [
    "model = xgb.XGBClassifier(n_estimators=1000, random_state=42)\n",
    "\n",
    "\n",
    "\n",
    "# Validation croisée avec les paramètres par défaut\n",
    "scores_default = cross_val_score(model, X_train, y_train_adjusted, cv=5, scoring='accuracy')\n",
    "print(\"\\nValidation croisée avec les paramètres par défaut:\")\n",
    "print(f\"Scores: {scores_default}\")\n",
    "print(f\"Score moyen: {scores_default.mean()}\")"
   ]
  },
  {
   "cell_type": "code",
   "execution_count": 46,
   "metadata": {},
   "outputs": [
    {
     "name": "stdout",
     "output_type": "stream",
     "text": [
      "Random Forest - Classification Report(test):\n",
      "              precision    recall  f1-score   support\n",
      "\n",
      "           1       0.92      0.90      0.91      7282\n",
      "           2       0.91      0.94      0.93      9735\n",
      "           3       0.89      0.93      0.91      1255\n",
      "           4       0.89      0.77      0.82        94\n",
      "           5       0.89      0.60      0.72       327\n",
      "           6       0.88      0.79      0.83       593\n",
      "           7       0.97      0.85      0.91       714\n",
      "\n",
      "    accuracy                           0.91     20000\n",
      "   macro avg       0.91      0.83      0.86     20000\n",
      "weighted avg       0.91      0.91      0.91     20000\n",
      "\n",
      "Random Forest - Classification Report(train):\n",
      "              precision    recall  f1-score   support\n",
      "\n",
      "           1       1.00      1.00      1.00     29128\n",
      "           2       1.00      1.00      1.00     38941\n",
      "           3       1.00      1.00      1.00      5018\n",
      "           4       1.00      1.00      1.00       377\n",
      "           5       1.00      1.00      1.00      1308\n",
      "           6       1.00      1.00      1.00      2374\n",
      "           7       1.00      1.00      1.00      2854\n",
      "\n",
      "    accuracy                           1.00     80000\n",
      "   macro avg       1.00      1.00      1.00     80000\n",
      "weighted avg       1.00      1.00      1.00     80000\n",
      "\n"
     ]
    }
   ],
   "source": [
    "# Initialisation du modèle Random Forest\n",
    "rf = RandomForestClassifier(n_estimators=100, random_state=42)\n",
    "\n",
    "# Entraînement du modèle\n",
    "rf.fit(X_train, y_train)\n",
    "\n",
    "# Prédiction\n",
    "y_pred_rf_test = rf.predict(X_test)\n",
    "y_pred_rf_train = rf.predict(X_train)\n",
    "# Évaluation\n",
    "print(\"Random Forest - Classification Report(test):\")\n",
    "print(classification_report(y_test, y_pred_rf_test))\n",
    "print(\"Random Forest - Classification Report(train):\")\n",
    "print(classification_report(y_train, y_pred_rf_train))\n"
   ]
  },
  {
   "cell_type": "code",
   "execution_count": 47,
   "metadata": {},
   "outputs": [
    {
     "name": "stdout",
     "output_type": "stream",
     "text": [
      "\n",
      "Validation croisée avec les paramètres par défaut:\n",
      "Scores: [0.903625  0.8999375 0.9009375 0.904625  0.902875 ]\n",
      "Score moyen: 0.9023999999999999\n"
     ]
    }
   ],
   "source": [
    "model = RandomForestClassifier(n_estimators=100, random_state=42)\n",
    "\n",
    "\n",
    "# Validation croisée avec les paramètres par défaut\n",
    "scores_default = cross_val_score(model, X_train, y_train, cv=5, scoring='accuracy')\n",
    "print(\"\\nValidation croisée avec les paramètres par défaut:\")\n",
    "print(f\"Scores: {scores_default}\")\n",
    "print(f\"Score moyen: {scores_default.mean()}\")"
   ]
  },
  {
   "cell_type": "code",
   "execution_count": 98,
   "metadata": {},
   "outputs": [
    {
     "name": "stdout",
     "output_type": "stream",
     "text": [
      "Importance des variables pour xgboost :\n",
      "                   Feature  Importance\n",
      "41             Soil_Type40    0.125435\n",
      "40             Soil_Type39    0.067150\n",
      "11        Wilderness_Area4    0.063361\n",
      "39             Soil_Type38    0.057711\n",
      "13              Soil_Type2    0.044192\n",
      "38             Soil_Type35    0.043900\n",
      "46    Pierreux_Caillouteux    0.041181\n",
      "15              Soil_Type4    0.036469\n",
      "21             Soil_Type12    0.036216\n",
      "47           Complexes_Cry    0.030480\n",
      "8         Wilderness_Area1    0.025459\n",
      "0                Elevation    0.024901\n",
      "28             Soil_Type22    0.024344\n",
      "9         Wilderness_Area2    0.019891\n",
      "25             Soil_Type18    0.019681\n",
      "36             Soil_Type33    0.018920\n",
      "34             Soil_Type31    0.017176\n",
      "37             Soil_Type34    0.015982\n",
      "14              Soil_Type3    0.015137\n",
      "35             Soil_Type32    0.015043\n",
      "48  Sols_hydriques_humides    0.014564\n",
      "10        Wilderness_Area3    0.014137\n",
      "33             Soil_Type30    0.013880\n",
      "44    Affleurement_rocheux    0.013001\n",
      "19             Soil_Type10    0.012917\n",
      "30             Soil_Type24    0.011957\n",
      "18              Soil_Type9    0.011810\n",
      "32             Soil_Type29    0.011750\n",
      "49                  Autres    0.011519\n",
      "17              Soil_Type6    0.011289\n",
      "22             Soil_Type13    0.010661\n",
      "                               Feature  Importance\n",
      "35                         Soil_Type32    0.015043\n",
      "48              Sols_hydriques_humides    0.014564\n",
      "10                    Wilderness_Area3    0.014137\n",
      "33                         Soil_Type30    0.013880\n",
      "44                Affleurement_rocheux    0.013001\n",
      "19                         Soil_Type10    0.012917\n",
      "30                         Soil_Type24    0.011957\n",
      "18                          Soil_Type9    0.011810\n",
      "32                         Soil_Type29    0.011750\n",
      "49                              Autres    0.011519\n",
      "17                          Soil_Type6    0.011289\n",
      "22                         Soil_Type13    0.010661\n",
      "24                         Soil_Type17    0.009890\n",
      "29                         Soil_Type23    0.009823\n",
      "27                         Soil_Type20    0.009795\n",
      "45                    Famille_Leighcan    0.009597\n",
      "26                         Soil_Type19    0.007900\n",
      "20                         Soil_Type11    0.007376\n",
      "16                          Soil_Type5    0.007140\n",
      "23                         Soil_Type16    0.006756\n",
      "4      Horizontal_Distance_To_Roadways    0.006654\n",
      "31                         Soil_Type26    0.006575\n",
      "7   Horizontal_Distance_To_Fire_Points    0.006032\n",
      "12                          Soil_Type1    0.005091\n",
      "2     Horizontal_Distance_To_Hydrology    0.004824\n",
      "43    Vertical_Distance_To_Hydrology_2    0.004129\n",
      "3       Vertical_Distance_To_Hydrology    0.003804\n",
      "1                               Aspect    0.003757\n",
      "6                       Hillshade_Noon    0.003755\n",
      "5                        Hillshade_9am    0.003661\n",
      "42                          Aspect_cos    0.003327\n"
     ]
    }
   ],
   "source": [
    "importances = xgboost.feature_importances_\n",
    "feature_names = X_train.columns  \n",
    "feature_importance_df = pd.DataFrame({\"Feature\": feature_names, \"Importance\": importances})\n",
    "\n",
    "# Trier et afficher les plus importantes\n",
    "feature_importance_df = feature_importance_df.sort_values(by=\"Importance\", ascending=False)\n",
    "print(\"Importance des variables pour xgboost :\")\n",
    "print(feature_importance_df.head(31))\n",
    "print(feature_importance_df.tail(31))"
   ]
  },
  {
   "cell_type": "code",
   "execution_count": 50,
   "metadata": {},
   "outputs": [
    {
     "name": "stdout",
     "output_type": "stream",
     "text": [
      "Importance des variables pour Decision Tree :\n",
      "                              Feature    Importance\n",
      "55             Elevation_Standardized  1.140632e-01\n",
      "0                           Elevation  1.035797e-01\n",
      "54                 Elevation_Relative  9.957264e-02\n",
      "60  Horizontal_Distance_To_Roadways_2  5.614906e-02\n",
      "5     Horizontal_Distance_To_Roadways  5.543235e-02\n",
      "..                                ...           ...\n",
      "41                        Soil_Type28  3.649138e-05\n",
      "49                        Soil_Type36  1.793064e-05\n",
      "21                         Soil_Type8  1.034872e-05\n",
      "20                         Soil_Type7  8.718179e-07\n",
      "28                        Soil_Type15  0.000000e+00\n",
      "\n",
      "[64 rows x 2 columns]\n"
     ]
    }
   ],
   "source": [
    "importances = rf.feature_importances_\n",
    "feature_names = X_train.columns  # Assurez-vous que X_train est un DataFrame avec des noms de colonnes\n",
    "feature_importance_df = pd.DataFrame({\"Feature\": feature_names, \"Importance\": importances})\n",
    "\n",
    "# Trier et afficher les plus importantes\n",
    "feature_importance_df = feature_importance_df.sort_values(by=\"Importance\", ascending=False)\n",
    "print(\"Importance des variables pour random forest:\")\n",
    "print(feature_importance_df.head(31))\n",
    "print(feature_importance_df.tail(31))"
   ]
  },
  {
   "cell_type": "markdown",
   "metadata": {},
   "source": [
    "## Recherche d'hyper parametre"
   ]
  },
  {
   "cell_type": "code",
   "execution_count": null,
   "metadata": {},
   "outputs": [],
   "source": [
    "from sklearn.model_selection import RandomizedSearchCV\n",
    "\n",
    "y_train_adjusted = y_train - 1\n",
    "y_test_adjusted = y_test - 1\n",
    "# Espaces d'hyperparamètres pour chaque modèle\n",
    "random_forest_params = {\n",
    "    'n_estimators': np.arange(50, 200, 10),\n",
    "    'max_depth': np.arange(5, 50, 5),\n",
    "    'min_samples_split': np.arange(2, 11),\n",
    "    'min_samples_leaf': np.arange(1, 5)\n",
    "}\n",
    "\n",
    "xgboost_params = {\n",
    "    'n_estimators': np.arange(100, 1000, 50),\n",
    "    'max_depth': np.arange(3, 10),\n",
    "    'learning_rate': np.linspace(0.01, 0.3, 10),\n",
    "    'subsample': [0.7, 0.8, 0.9, 1.0],\n",
    "    'colsample_bytree': [0.7, 0.8, 0.9, 1.0]\n",
    "}\n",
    "\n",
    "bagging_params = {\n",
    "    'n_estimators': np.arange(50, 200, 10),\n",
    "    'max_samples': np.linspace(0.5, 1.0, 5),\n",
    "    'max_features': np.linspace(0.5, 1.0, 5),\n",
    "    'bootstrap': [True, False]\n",
    "}\n",
    "\n",
    "# Initialisation des modèles\n",
    "random_forest = RandomForestClassifier(random_state=42)\n",
    "xgboost = xgb.XGBClassifier(random_state=42)\n",
    "bagging = BaggingClassifier(estimator=DecisionTreeClassifier(), random_state=42)\n",
    "\n",
    "# Recherche aléatoire pour chaque modèle\n",
    "random_forest_search = RandomizedSearchCV(random_forest, random_forest_params, n_iter=20, cv=5, random_state=42, scoring='f1_micro')\n",
    "xgboost_search = RandomizedSearchCV(xgboost, xgboost_params, n_iter=20, cv=5, random_state=42, scoring='f1_micro')\n",
    "bagging_search = RandomizedSearchCV(bagging, bagging_params, n_iter=20, cv=5, random_state=42, scoring='f1_micro')\n",
    "\n",
    "# Entraînement des recherches\n",
    "print(\"Recherche aléatoire pour Random Forest...\")\n",
    "random_forest_search.fit(X_train, y_train_adjusted)\n",
    "print(\"Meilleurs paramètres pour Random Forest:\", random_forest_search.best_params_)\n",
    "print(\"Score de validation croisée:\", random_forest_search.best_score_)\n",
    "\n",
    "print(\"\\nRecherche aléatoire pour XGBoost...\")\n",
    "xgboost_search.fit(X_train, y_train_adjusted)\n",
    "print(\"Meilleurs paramètres pour XGBoost:\", xgboost_search.best_params_)\n",
    "print(\"Score de validation croisée:\", xgboost_search.best_score_)\n",
    "\n",
    "print(\"\\nRecherche aléatoire pour Bagging...\")\n",
    "bagging_search.fit(X_train, y_train_adjusted)\n",
    "print(\"Meilleurs paramètres pour Bagging:\", bagging_search.best_params_)\n",
    "print(\"Score de validation croisée:\", bagging_search.best_score_)\n"
   ]
  },
  {
   "cell_type": "code",
   "execution_count": null,
   "metadata": {},
   "outputs": [],
   "source": []
  },
  {
   "cell_type": "markdown",
   "metadata": {},
   "source": [
    "## hyper_parametre et deuxieme dataframe "
   ]
  },
  {
   "cell_type": "code",
   "execution_count": 86,
   "metadata": {},
   "outputs": [],
   "source": [
    "X = df_change_xg.drop('Cover_Type', axis=1)  # Variables explicatives\n",
    "y = df_change_xg['Cover_Type']  # Variable cible (Cover_Type avec 7 classes)\n",
    "\n",
    "# Division avec stratification pour préserver les proportions des 7 classes dans train et test\n",
    "X_train, X_test, y_train, y_test = train_test_split(X, y, test_size=0.2, stratify=y, random_state=42)"
   ]
  },
  {
   "cell_type": "code",
   "execution_count": 61,
   "metadata": {},
   "outputs": [
    {
     "name": "stdout",
     "output_type": "stream",
     "text": [
      "XGBoost - Classification Report(test):\n",
      "              precision    recall  f1-score   support\n",
      "\n",
      "           0       0.93      0.92      0.92      7282\n",
      "           1       0.93      0.95      0.94      9735\n",
      "           2       0.92      0.93      0.92      1255\n",
      "           3       0.87      0.84      0.85        94\n",
      "           4       0.85      0.71      0.78       327\n",
      "           5       0.88      0.83      0.85       593\n",
      "           6       0.96      0.92      0.94       714\n",
      "\n",
      "    accuracy                           0.93     20000\n",
      "   macro avg       0.90      0.87      0.89     20000\n",
      "weighted avg       0.93      0.93      0.93     20000\n",
      "\n",
      "XGBoost - Classification Report(train):\n",
      "              precision    recall  f1-score   support\n",
      "\n",
      "           0       1.00      1.00      1.00     29128\n",
      "           1       1.00      1.00      1.00     38941\n",
      "           2       1.00      1.00      1.00      5018\n",
      "           3       1.00      1.00      1.00       377\n",
      "           4       1.00      1.00      1.00      1308\n",
      "           5       1.00      1.00      1.00      2374\n",
      "           6       1.00      1.00      1.00      2854\n",
      "\n",
      "    accuracy                           1.00     80000\n",
      "   macro avg       1.00      1.00      1.00     80000\n",
      "weighted avg       1.00      1.00      1.00     80000\n",
      "\n"
     ]
    }
   ],
   "source": [
    "# Décaler les labels pour qu'ils commencent à 0\n",
    "y_train_adjusted = y_train - 1\n",
    "y_test_adjusted = y_test - 1\n",
    "\n",
    "# Initialisation du modèle XGBoost\n",
    "xgboost = xgb.XGBClassifier(n_estimators=1000, random_state=42)\n",
    "\n",
    "# Entraînement du modèle\n",
    "xgboost.fit(X_train, y_train_adjusted)\n",
    "\n",
    "# Prédiction\n",
    "y_pred_xgboost_test = xgboost.predict(X_test)\n",
    "y_pred_xgboost_train = xgboost.predict(X_train)\n",
    "# Ajuster les prédictions en fonction des labels originaux\n",
    "\n",
    "# Évaluation\n",
    "print(\"XGBoost - Classification Report(test):\")\n",
    "print(classification_report(y_test_adjusted, y_pred_xgboost_test))\n",
    "\n",
    "print(\"XGBoost - Classification Report(train):\")\n",
    "print(classification_report(y_train_adjusted, y_pred_xgboost_train))"
   ]
  },
  {
   "cell_type": "code",
   "execution_count": 62,
   "metadata": {},
   "outputs": [
    {
     "name": "stdout",
     "output_type": "stream",
     "text": [
      "\n",
      "Validation croisée avec les paramètres par défaut:\n",
      "Scores: [0.913875  0.908875  0.9118125 0.915375  0.91225  ]\n",
      "Score moyen: 0.9124375\n"
     ]
    }
   ],
   "source": [
    "model = xgb.XGBClassifier(n_estimators=1000, random_state=42)\n",
    "\n",
    "\n",
    "\n",
    "# Validation croisée avec les paramètres par défaut\n",
    "scores_default = cross_val_score(model, X_train, y_train_adjusted, cv=5, scoring='accuracy')\n",
    "print(\"\\nValidation croisée avec les paramètres par défaut:\")\n",
    "print(f\"Scores: {scores_default}\")\n",
    "print(f\"Score moyen: {scores_default.mean()}\")"
   ]
  },
  {
   "cell_type": "code",
   "execution_count": 99,
   "metadata": {},
   "outputs": [
    {
     "name": "stdout",
     "output_type": "stream",
     "text": [
      "XGBoost - Classification Report(test):\n",
      "              precision    recall  f1-score   support\n",
      "\n",
      "           0       0.93      0.91      0.92      7282\n",
      "           1       0.93      0.95      0.94      9735\n",
      "           2       0.91      0.93      0.92      1255\n",
      "           3       0.91      0.86      0.89        94\n",
      "           4       0.88      0.72      0.79       327\n",
      "           5       0.88      0.83      0.85       593\n",
      "           6       0.95      0.90      0.93       714\n",
      "\n",
      "    accuracy                           0.93     20000\n",
      "   macro avg       0.91      0.87      0.89     20000\n",
      "weighted avg       0.93      0.93      0.93     20000\n",
      "\n",
      "XGBoost - Classification Report(train):\n",
      "              precision    recall  f1-score   support\n",
      "\n",
      "           0       1.00      1.00      1.00     29128\n",
      "           1       1.00      1.00      1.00     38941\n",
      "           2       1.00      1.00      1.00      5018\n",
      "           3       1.00      1.00      1.00       377\n",
      "           4       1.00      1.00      1.00      1308\n",
      "           5       1.00      1.00      1.00      2374\n",
      "           6       1.00      1.00      1.00      2854\n",
      "\n",
      "    accuracy                           1.00     80000\n",
      "   macro avg       1.00      1.00      1.00     80000\n",
      "weighted avg       1.00      1.00      1.00     80000\n",
      "\n"
     ]
    }
   ],
   "source": [
    "xgboost = xgb.XGBClassifier(\n",
    "    subsample=0.9,\n",
    "    n_estimators=500,\n",
    "    max_depth=8,\n",
    "    learning_rate=0.2677777777777778,\n",
    "    colsample_bytree=0.7,\n",
    "    random_state=42,\n",
    "    \n",
    ")\n",
    "y_train_adjusted = y_train - 1\n",
    "y_test_adjusted = y_test - 1\n",
    "xgboost.fit(X_train, y_train_adjusted)\n",
    "\n",
    "# Prédiction\n",
    "y_pred_xgboost_test = xgboost.predict(X_test)\n",
    "y_pred_xgboost_train = xgboost.predict(X_train)\n",
    "# Ajuster les prédictions en fonction des labels originaux\n",
    "\n",
    "# Évaluation\n",
    "print(\"XGBoost - Classification Report(test):\")\n",
    "print(classification_report(y_test_adjusted, y_pred_xgboost_test))\n",
    "\n",
    "print(\"XGBoost - Classification Report(train):\")\n",
    "print(classification_report(y_train_adjusted, y_pred_xgboost_train))"
   ]
  },
  {
   "cell_type": "code",
   "execution_count": 100,
   "metadata": {},
   "outputs": [
    {
     "name": "stdout",
     "output_type": "stream",
     "text": [
      "Importance des variables pour xgboost :\n",
      "                   Feature  Importance\n",
      "41             Soil_Type40    0.125435\n",
      "40             Soil_Type39    0.067150\n",
      "11        Wilderness_Area4    0.063361\n",
      "39             Soil_Type38    0.057711\n",
      "13              Soil_Type2    0.044192\n",
      "38             Soil_Type35    0.043900\n",
      "46    Pierreux_Caillouteux    0.041181\n",
      "15              Soil_Type4    0.036469\n",
      "21             Soil_Type12    0.036216\n",
      "47           Complexes_Cry    0.030480\n",
      "8         Wilderness_Area1    0.025459\n",
      "0                Elevation    0.024901\n",
      "28             Soil_Type22    0.024344\n",
      "9         Wilderness_Area2    0.019891\n",
      "25             Soil_Type18    0.019681\n",
      "36             Soil_Type33    0.018920\n",
      "34             Soil_Type31    0.017176\n",
      "37             Soil_Type34    0.015982\n",
      "14              Soil_Type3    0.015137\n",
      "35             Soil_Type32    0.015043\n",
      "48  Sols_hydriques_humides    0.014564\n",
      "10        Wilderness_Area3    0.014137\n",
      "33             Soil_Type30    0.013880\n",
      "44    Affleurement_rocheux    0.013001\n",
      "19             Soil_Type10    0.012917\n",
      "30             Soil_Type24    0.011957\n",
      "18              Soil_Type9    0.011810\n",
      "32             Soil_Type29    0.011750\n",
      "49                  Autres    0.011519\n",
      "17              Soil_Type6    0.011289\n",
      "22             Soil_Type13    0.010661\n",
      "24             Soil_Type17    0.009890\n",
      "29             Soil_Type23    0.009823\n",
      "                               Feature  Importance\n",
      "37                         Soil_Type34    0.015982\n",
      "14                          Soil_Type3    0.015137\n",
      "35                         Soil_Type32    0.015043\n",
      "48              Sols_hydriques_humides    0.014564\n",
      "10                    Wilderness_Area3    0.014137\n",
      "33                         Soil_Type30    0.013880\n",
      "44                Affleurement_rocheux    0.013001\n",
      "19                         Soil_Type10    0.012917\n",
      "30                         Soil_Type24    0.011957\n",
      "18                          Soil_Type9    0.011810\n",
      "32                         Soil_Type29    0.011750\n",
      "49                              Autres    0.011519\n",
      "17                          Soil_Type6    0.011289\n",
      "22                         Soil_Type13    0.010661\n",
      "24                         Soil_Type17    0.009890\n",
      "29                         Soil_Type23    0.009823\n",
      "27                         Soil_Type20    0.009795\n",
      "45                    Famille_Leighcan    0.009597\n",
      "26                         Soil_Type19    0.007900\n",
      "20                         Soil_Type11    0.007376\n",
      "16                          Soil_Type5    0.007140\n",
      "23                         Soil_Type16    0.006756\n",
      "4      Horizontal_Distance_To_Roadways    0.006654\n",
      "31                         Soil_Type26    0.006575\n",
      "7   Horizontal_Distance_To_Fire_Points    0.006032\n",
      "12                          Soil_Type1    0.005091\n",
      "2     Horizontal_Distance_To_Hydrology    0.004824\n",
      "43    Vertical_Distance_To_Hydrology_2    0.004129\n",
      "3       Vertical_Distance_To_Hydrology    0.003804\n",
      "1                               Aspect    0.003757\n",
      "6                       Hillshade_Noon    0.003755\n",
      "5                        Hillshade_9am    0.003661\n",
      "42                          Aspect_cos    0.003327\n"
     ]
    }
   ],
   "source": [
    "importances = xgboost.feature_importances_\n",
    "feature_names = X_train.columns  # Assurez-vous que X_train est un DataFrame avec des noms de colonnes\n",
    "feature_importance_df = pd.DataFrame({\"Feature\": feature_names, \"Importance\": importances})\n",
    "\n",
    "# Trier et afficher les plus importantes\n",
    "feature_importance_df = feature_importance_df.sort_values(by=\"Importance\", ascending=False)\n",
    "print(\"Importance des variables pour xgboost :\")\n",
    "print(feature_importance_df.head(33))\n",
    "print(feature_importance_df.tail(33))"
   ]
  },
  {
   "cell_type": "code",
   "execution_count": 64,
   "metadata": {},
   "outputs": [
    {
     "name": "stdout",
     "output_type": "stream",
     "text": [
      "\n",
      "Validation croisée avec les paramètres par défaut:\n",
      "Scores: [0.9160625 0.9129375 0.91475   0.9160625 0.9161875]\n",
      "Score moyen: 0.9152000000000001\n"
     ]
    }
   ],
   "source": [
    "model = xgb.XGBClassifier(\n",
    "    subsample=0.9,\n",
    "    n_estimators=500,\n",
    "    max_depth=8,\n",
    "    learning_rate=0.2677777777777778,\n",
    "    colsample_bytree=0.7,\n",
    "    random_state=42,\n",
    "    \n",
    ")\n",
    "\n",
    "# Validation croisée avec les paramètres par défaut\n",
    "scores_default = cross_val_score(model, X_train, y_train_adjusted, cv=5, scoring='accuracy')\n",
    "print(\"\\nValidation croisée avec les paramètres par défaut:\")\n",
    "print(f\"Scores: {scores_default}\")\n",
    "print(f\"Score moyen: {scores_default.mean()}\")"
   ]
  },
  {
   "cell_type": "code",
   "execution_count": 96,
   "metadata": {},
   "outputs": [],
   "source": [
    "test_features = test.drop(columns=['row_ID'])\n",
    "Y_pred = xgboost.predict(test_features) \n",
    "Y_pred += 1"
   ]
  },
  {
   "cell_type": "code",
   "execution_count": 97,
   "metadata": {},
   "outputs": [],
   "source": [
    "test_id = test['row_ID']\n",
    "submission = pd.DataFrame({\n",
    "    'row_ID': test_id,\n",
    "    'Y_pred': Y_pred\n",
    "})\n",
    "\n",
    "# Enregistrer le DataFrame dans un fichier CSV\n",
    "submission.to_csv('submission_xgboost_VA_soil.csv', index=False)"
   ]
  },
  {
   "cell_type": "code",
   "execution_count": 122,
   "metadata": {},
   "outputs": [],
   "source": [
    "X = df_change_xg  # Variables explicatives\n",
    "y = df_change_xg['Cover_Type']  # Variable cible (Cover_Type avec 7 classes)\n",
    "\n",
    "# Division avec stratification pour préserver les proportions des 7 classes dans train et test\n",
    "X_train, X_test, y_train, y_test = train_test_split(X, y, test_size=0.2, stratify=y, random_state=42)"
   ]
  },
  {
   "cell_type": "code",
   "execution_count": 123,
   "metadata": {},
   "outputs": [
    {
     "name": "stdout",
     "output_type": "stream",
     "text": [
      "Cover_Type\n",
      "2    38941\n",
      "1    29128\n",
      "4    10491\n",
      "5    10491\n",
      "7     6745\n",
      "3     6745\n",
      "6     6745\n",
      "Name: count, dtype: int64\n"
     ]
    }
   ],
   "source": [
    "#over fitting \n",
    "from imblearn.over_sampling import SMOTE\n",
    "import pandas as pd\n",
    "\n",
    "# Sélectionnez uniquement les données des classes 3, 7, 5, 4 et 6\n",
    "df_class5_6 = X_train[X_train['Cover_Type'].isin([3, 7, 5, 4, 6])]\n",
    "\n",
    "# Sélectionnez les caractéristiques sans la variable cible 'Cover_Type'\n",
    "X_class5_6 = df_class5_6.drop(columns=['Cover_Type']) #0.225375440745619\n",
    "\n",
    "# Sélectionnez les étiquettes\n",
    "y_class5_6 = df_class5_6['Cover_Type']\n",
    "\n",
    "# Définir le nombre d'échantillons cible pour chaque classe avec des coefficients différents\n",
    "target_samples_0_6 = int( 0.2315940566699839* X_train[X_train['Cover_Type'] == 1].shape[0])  # pour les classes 3, 6, et 7\n",
    "target_samples_0_8 = int( 0.2694231305315746* X_train[X_train['Cover_Type'] == 2].shape[0])  # pour les classes 4 et 5\n",
    "\n",
    "sampling_strategy = {\n",
    "    3: target_samples_0_6,\n",
    "    6: target_samples_0_6,\n",
    "    7: target_samples_0_6,\n",
    "    4: target_samples_0_8,\n",
    "    5: target_samples_0_8\n",
    "}\n",
    "\n",
    "# Appliquer SMOTE pour générer des échantillons synthétiques\n",
    "smote = SMOTE(sampling_strategy=sampling_strategy, random_state=42)\n",
    "X_class5_6_resampled, y_class5_6_resampled = smote.fit_resample(X_class5_6, y_class5_6)\n",
    "\n",
    "# Ajouter les échantillons synthétiques à votre dataframe original\n",
    "df_class5_6_resampled = pd.DataFrame(X_class5_6_resampled, columns=X_class5_6.columns)\n",
    "df_class5_6_resampled['Cover_Type'] = y_class5_6_resampled\n",
    "\n",
    "# Vous pouvez maintenant concaténer les données rééchantillonnées avec les autres classes\n",
    "df_oversampled = pd.concat([X_train[~X_train['Cover_Type'].isin([3, 7, 5, 4, 6])], df_class5_6_resampled])\n",
    "\n",
    "# Vérification de la nouvelle répartition des classes\n",
    "print(df_oversampled['Cover_Type'].value_counts())"
   ]
  },
  {
   "cell_type": "code",
   "execution_count": 124,
   "metadata": {},
   "outputs": [],
   "source": [
    "X_train = df_oversampled.copy()"
   ]
  },
  {
   "cell_type": "code",
   "execution_count": 125,
   "metadata": {},
   "outputs": [],
   "source": [
    "y_train = X_train[\"Cover_Type\"]\n",
    "X_train = X_train.drop(columns = \"Cover_Type\")"
   ]
  },
  {
   "cell_type": "code",
   "execution_count": 126,
   "metadata": {},
   "outputs": [],
   "source": [
    "X_test = X_test.drop(columns='Cover_Type', axis= 1)"
   ]
  },
  {
   "cell_type": "code",
   "execution_count": 127,
   "metadata": {},
   "outputs": [
    {
     "name": "stdout",
     "output_type": "stream",
     "text": [
      "XGBoost - Classification Report(test):\n",
      "              precision    recall  f1-score   support\n",
      "\n",
      "           0       0.93      0.91      0.92      7282\n",
      "           1       0.93      0.95      0.94      9735\n",
      "           2       0.92      0.93      0.92      1255\n",
      "           3       0.90      0.88      0.89        94\n",
      "           4       0.84      0.77      0.81       327\n",
      "           5       0.87      0.85      0.86       593\n",
      "           6       0.94      0.92      0.93       714\n",
      "\n",
      "    accuracy                           0.93     20000\n",
      "   macro avg       0.90      0.89      0.90     20000\n",
      "weighted avg       0.93      0.93      0.93     20000\n",
      "\n",
      "XGBoost - Classification Report(train):\n",
      "              precision    recall  f1-score   support\n",
      "\n",
      "           0       1.00      1.00      1.00     29128\n",
      "           1       1.00      1.00      1.00     38941\n",
      "           2       1.00      1.00      1.00      6745\n",
      "           3       1.00      1.00      1.00     10491\n",
      "           4       1.00      1.00      1.00     10491\n",
      "           5       1.00      1.00      1.00      6745\n",
      "           6       1.00      1.00      1.00      6745\n",
      "\n",
      "    accuracy                           1.00    109286\n",
      "   macro avg       1.00      1.00      1.00    109286\n",
      "weighted avg       1.00      1.00      1.00    109286\n",
      "\n"
     ]
    }
   ],
   "source": [
    "xgboost = xgb.XGBClassifier(\n",
    "    subsample=0.9,\n",
    "    n_estimators=500,\n",
    "    max_depth=8,\n",
    "    learning_rate=0.2677777777777778,\n",
    "    colsample_bytree=0.7,\n",
    "    random_state=42,\n",
    "    \n",
    ")\n",
    "y_train_adjusted = y_train - 1\n",
    "y_test_adjusted = y_test - 1\n",
    "xgboost.fit(X_train, y_train_adjusted)\n",
    "\n",
    "# Prédiction\n",
    "y_pred_xgboost_test = xgboost.predict(X_test)\n",
    "y_pred_xgboost_train = xgboost.predict(X_train)\n",
    "# Ajuster les prédictions en fonction des labels originaux\n",
    "\n",
    "# Évaluation\n",
    "print(\"XGBoost - Classification Report(test):\")\n",
    "print(classification_report(y_test_adjusted, y_pred_xgboost_test))\n",
    "\n",
    "print(\"XGBoost - Classification Report(train):\")\n",
    "print(classification_report(y_train_adjusted, y_pred_xgboost_train))"
   ]
  },
  {
   "cell_type": "code",
   "execution_count": 128,
   "metadata": {},
   "outputs": [],
   "source": [
    "test_features = test.drop(columns=['row_ID'])\n",
    "Y_pred = xgboost.predict(test_features) \n",
    "Y_pred += 1"
   ]
  },
  {
   "cell_type": "code",
   "execution_count": 129,
   "metadata": {},
   "outputs": [],
   "source": [
    "test_id = test['row_ID']\n",
    "submission = pd.DataFrame({\n",
    "    'row_ID': test_id,\n",
    "    'Y_pred': Y_pred\n",
    "})\n",
    "\n",
    "# Enregistrer le DataFrame dans un fichier CSV\n",
    "submission.to_csv('submission_xgboost_VA_soil_oversampling_2.csv', index=False)"
   ]
  },
  {
   "cell_type": "code",
   "execution_count": null,
   "metadata": {},
   "outputs": [],
   "source": []
  }
 ],
 "metadata": {
  "kernelspec": {
   "display_name": "Python 3",
   "language": "python",
   "name": "python3"
  },
  "language_info": {
   "codemirror_mode": {
    "name": "ipython",
    "version": 3
   },
   "file_extension": ".py",
   "mimetype": "text/x-python",
   "name": "python",
   "nbconvert_exporter": "python",
   "pygments_lexer": "ipython3",
   "version": "3.10.12"
  }
 },
 "nbformat": 4,
 "nbformat_minor": 2
}
